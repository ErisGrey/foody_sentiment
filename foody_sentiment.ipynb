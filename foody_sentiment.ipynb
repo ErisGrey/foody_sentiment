{
  "metadata": {
    "colab": {
      "provenance": [],
      "gpuType": "T4"
    },
    "kernelspec": {
      "name": "python3",
      "display_name": "Python 3"
    },
    "language_info": {
      "name": "python",
      "version": "3.7.12",
      "mimetype": "text/x-python",
      "codemirror_mode": {
        "name": "ipython",
        "version": 3
      },
      "pygments_lexer": "ipython3",
      "nbconvert_exporter": "python",
      "file_extension": ".py"
    },
    "widgets": {
      "application/vnd.jupyter.widget-state+json": {
        "7f4a8f3cd5c544868c9e39fc46106fb0": {
          "model_module": "@jupyter-widgets/controls",
          "model_name": "HBoxModel",
          "model_module_version": "1.5.0",
          "state": {
            "_dom_classes": [],
            "_model_module": "@jupyter-widgets/controls",
            "_model_module_version": "1.5.0",
            "_model_name": "HBoxModel",
            "_view_count": null,
            "_view_module": "@jupyter-widgets/controls",
            "_view_module_version": "1.5.0",
            "_view_name": "HBoxView",
            "box_style": "",
            "children": [
              "IPY_MODEL_d3322de93e524f709c9bde8311534b9f",
              "IPY_MODEL_38e3babceefc4ce4a9229297cdd95de5",
              "IPY_MODEL_c085a7e406ad48428105e7481ccc03b3"
            ],
            "layout": "IPY_MODEL_39b05b0ad200422a81ca12c2c791bbff"
          }
        },
        "d3322de93e524f709c9bde8311534b9f": {
          "model_module": "@jupyter-widgets/controls",
          "model_name": "HTMLModel",
          "model_module_version": "1.5.0",
          "state": {
            "_dom_classes": [],
            "_model_module": "@jupyter-widgets/controls",
            "_model_module_version": "1.5.0",
            "_model_name": "HTMLModel",
            "_view_count": null,
            "_view_module": "@jupyter-widgets/controls",
            "_view_module_version": "1.5.0",
            "_view_name": "HTMLView",
            "description": "",
            "description_tooltip": null,
            "layout": "IPY_MODEL_e513adf565634a18aa398a6fa878c083",
            "placeholder": "​",
            "style": "IPY_MODEL_1b38062e57e34ec0ac778938643e7295",
            "value": "Downloading (…)lve/main/config.json: 100%"
          }
        },
        "38e3babceefc4ce4a9229297cdd95de5": {
          "model_module": "@jupyter-widgets/controls",
          "model_name": "FloatProgressModel",
          "model_module_version": "1.5.0",
          "state": {
            "_dom_classes": [],
            "_model_module": "@jupyter-widgets/controls",
            "_model_module_version": "1.5.0",
            "_model_name": "FloatProgressModel",
            "_view_count": null,
            "_view_module": "@jupyter-widgets/controls",
            "_view_module_version": "1.5.0",
            "_view_name": "ProgressView",
            "bar_style": "success",
            "description": "",
            "description_tooltip": null,
            "layout": "IPY_MODEL_c8b7c81591fc439da0270d45db57c060",
            "max": 557,
            "min": 0,
            "orientation": "horizontal",
            "style": "IPY_MODEL_bfd08e062d4948e7a91fdf4f3ed3ec37",
            "value": 557
          }
        },
        "c085a7e406ad48428105e7481ccc03b3": {
          "model_module": "@jupyter-widgets/controls",
          "model_name": "HTMLModel",
          "model_module_version": "1.5.0",
          "state": {
            "_dom_classes": [],
            "_model_module": "@jupyter-widgets/controls",
            "_model_module_version": "1.5.0",
            "_model_name": "HTMLModel",
            "_view_count": null,
            "_view_module": "@jupyter-widgets/controls",
            "_view_module_version": "1.5.0",
            "_view_name": "HTMLView",
            "description": "",
            "description_tooltip": null,
            "layout": "IPY_MODEL_db102b5c068c4129995621b362e35b21",
            "placeholder": "​",
            "style": "IPY_MODEL_e07bbcf88902479892547b7bf23bffb2",
            "value": " 557/557 [00:00&lt;00:00, 27.6kB/s]"
          }
        },
        "39b05b0ad200422a81ca12c2c791bbff": {
          "model_module": "@jupyter-widgets/base",
          "model_name": "LayoutModel",
          "model_module_version": "1.2.0",
          "state": {
            "_model_module": "@jupyter-widgets/base",
            "_model_module_version": "1.2.0",
            "_model_name": "LayoutModel",
            "_view_count": null,
            "_view_module": "@jupyter-widgets/base",
            "_view_module_version": "1.2.0",
            "_view_name": "LayoutView",
            "align_content": null,
            "align_items": null,
            "align_self": null,
            "border": null,
            "bottom": null,
            "display": null,
            "flex": null,
            "flex_flow": null,
            "grid_area": null,
            "grid_auto_columns": null,
            "grid_auto_flow": null,
            "grid_auto_rows": null,
            "grid_column": null,
            "grid_gap": null,
            "grid_row": null,
            "grid_template_areas": null,
            "grid_template_columns": null,
            "grid_template_rows": null,
            "height": null,
            "justify_content": null,
            "justify_items": null,
            "left": null,
            "margin": null,
            "max_height": null,
            "max_width": null,
            "min_height": null,
            "min_width": null,
            "object_fit": null,
            "object_position": null,
            "order": null,
            "overflow": null,
            "overflow_x": null,
            "overflow_y": null,
            "padding": null,
            "right": null,
            "top": null,
            "visibility": null,
            "width": null
          }
        },
        "e513adf565634a18aa398a6fa878c083": {
          "model_module": "@jupyter-widgets/base",
          "model_name": "LayoutModel",
          "model_module_version": "1.2.0",
          "state": {
            "_model_module": "@jupyter-widgets/base",
            "_model_module_version": "1.2.0",
            "_model_name": "LayoutModel",
            "_view_count": null,
            "_view_module": "@jupyter-widgets/base",
            "_view_module_version": "1.2.0",
            "_view_name": "LayoutView",
            "align_content": null,
            "align_items": null,
            "align_self": null,
            "border": null,
            "bottom": null,
            "display": null,
            "flex": null,
            "flex_flow": null,
            "grid_area": null,
            "grid_auto_columns": null,
            "grid_auto_flow": null,
            "grid_auto_rows": null,
            "grid_column": null,
            "grid_gap": null,
            "grid_row": null,
            "grid_template_areas": null,
            "grid_template_columns": null,
            "grid_template_rows": null,
            "height": null,
            "justify_content": null,
            "justify_items": null,
            "left": null,
            "margin": null,
            "max_height": null,
            "max_width": null,
            "min_height": null,
            "min_width": null,
            "object_fit": null,
            "object_position": null,
            "order": null,
            "overflow": null,
            "overflow_x": null,
            "overflow_y": null,
            "padding": null,
            "right": null,
            "top": null,
            "visibility": null,
            "width": null
          }
        },
        "1b38062e57e34ec0ac778938643e7295": {
          "model_module": "@jupyter-widgets/controls",
          "model_name": "DescriptionStyleModel",
          "model_module_version": "1.5.0",
          "state": {
            "_model_module": "@jupyter-widgets/controls",
            "_model_module_version": "1.5.0",
            "_model_name": "DescriptionStyleModel",
            "_view_count": null,
            "_view_module": "@jupyter-widgets/base",
            "_view_module_version": "1.2.0",
            "_view_name": "StyleView",
            "description_width": ""
          }
        },
        "c8b7c81591fc439da0270d45db57c060": {
          "model_module": "@jupyter-widgets/base",
          "model_name": "LayoutModel",
          "model_module_version": "1.2.0",
          "state": {
            "_model_module": "@jupyter-widgets/base",
            "_model_module_version": "1.2.0",
            "_model_name": "LayoutModel",
            "_view_count": null,
            "_view_module": "@jupyter-widgets/base",
            "_view_module_version": "1.2.0",
            "_view_name": "LayoutView",
            "align_content": null,
            "align_items": null,
            "align_self": null,
            "border": null,
            "bottom": null,
            "display": null,
            "flex": null,
            "flex_flow": null,
            "grid_area": null,
            "grid_auto_columns": null,
            "grid_auto_flow": null,
            "grid_auto_rows": null,
            "grid_column": null,
            "grid_gap": null,
            "grid_row": null,
            "grid_template_areas": null,
            "grid_template_columns": null,
            "grid_template_rows": null,
            "height": null,
            "justify_content": null,
            "justify_items": null,
            "left": null,
            "margin": null,
            "max_height": null,
            "max_width": null,
            "min_height": null,
            "min_width": null,
            "object_fit": null,
            "object_position": null,
            "order": null,
            "overflow": null,
            "overflow_x": null,
            "overflow_y": null,
            "padding": null,
            "right": null,
            "top": null,
            "visibility": null,
            "width": null
          }
        },
        "bfd08e062d4948e7a91fdf4f3ed3ec37": {
          "model_module": "@jupyter-widgets/controls",
          "model_name": "ProgressStyleModel",
          "model_module_version": "1.5.0",
          "state": {
            "_model_module": "@jupyter-widgets/controls",
            "_model_module_version": "1.5.0",
            "_model_name": "ProgressStyleModel",
            "_view_count": null,
            "_view_module": "@jupyter-widgets/base",
            "_view_module_version": "1.2.0",
            "_view_name": "StyleView",
            "bar_color": null,
            "description_width": ""
          }
        },
        "db102b5c068c4129995621b362e35b21": {
          "model_module": "@jupyter-widgets/base",
          "model_name": "LayoutModel",
          "model_module_version": "1.2.0",
          "state": {
            "_model_module": "@jupyter-widgets/base",
            "_model_module_version": "1.2.0",
            "_model_name": "LayoutModel",
            "_view_count": null,
            "_view_module": "@jupyter-widgets/base",
            "_view_module_version": "1.2.0",
            "_view_name": "LayoutView",
            "align_content": null,
            "align_items": null,
            "align_self": null,
            "border": null,
            "bottom": null,
            "display": null,
            "flex": null,
            "flex_flow": null,
            "grid_area": null,
            "grid_auto_columns": null,
            "grid_auto_flow": null,
            "grid_auto_rows": null,
            "grid_column": null,
            "grid_gap": null,
            "grid_row": null,
            "grid_template_areas": null,
            "grid_template_columns": null,
            "grid_template_rows": null,
            "height": null,
            "justify_content": null,
            "justify_items": null,
            "left": null,
            "margin": null,
            "max_height": null,
            "max_width": null,
            "min_height": null,
            "min_width": null,
            "object_fit": null,
            "object_position": null,
            "order": null,
            "overflow": null,
            "overflow_x": null,
            "overflow_y": null,
            "padding": null,
            "right": null,
            "top": null,
            "visibility": null,
            "width": null
          }
        },
        "e07bbcf88902479892547b7bf23bffb2": {
          "model_module": "@jupyter-widgets/controls",
          "model_name": "DescriptionStyleModel",
          "model_module_version": "1.5.0",
          "state": {
            "_model_module": "@jupyter-widgets/controls",
            "_model_module_version": "1.5.0",
            "_model_name": "DescriptionStyleModel",
            "_view_count": null,
            "_view_module": "@jupyter-widgets/base",
            "_view_module_version": "1.2.0",
            "_view_name": "StyleView",
            "description_width": ""
          }
        },
        "477ccba79bd14dd9afb8ccfac2a3813c": {
          "model_module": "@jupyter-widgets/controls",
          "model_name": "HBoxModel",
          "model_module_version": "1.5.0",
          "state": {
            "_dom_classes": [],
            "_model_module": "@jupyter-widgets/controls",
            "_model_module_version": "1.5.0",
            "_model_name": "HBoxModel",
            "_view_count": null,
            "_view_module": "@jupyter-widgets/controls",
            "_view_module_version": "1.5.0",
            "_view_name": "HBoxView",
            "box_style": "",
            "children": [
              "IPY_MODEL_483dbd93febb4ea586fcdc8ce53a2fd6",
              "IPY_MODEL_008c5a0df4c847a5a1a8fb3bf2f36470",
              "IPY_MODEL_89fb6af6c980449e85e11f8e7937bc66"
            ],
            "layout": "IPY_MODEL_06d97ba4b67944d5b4c82bbdd2c8a490"
          }
        },
        "483dbd93febb4ea586fcdc8ce53a2fd6": {
          "model_module": "@jupyter-widgets/controls",
          "model_name": "HTMLModel",
          "model_module_version": "1.5.0",
          "state": {
            "_dom_classes": [],
            "_model_module": "@jupyter-widgets/controls",
            "_model_module_version": "1.5.0",
            "_model_name": "HTMLModel",
            "_view_count": null,
            "_view_module": "@jupyter-widgets/controls",
            "_view_module_version": "1.5.0",
            "_view_name": "HTMLView",
            "description": "",
            "description_tooltip": null,
            "layout": "IPY_MODEL_d7b9719911534c7b8a03f4688286245b",
            "placeholder": "​",
            "style": "IPY_MODEL_dff596b5aaa0444785aad6e04073ae54",
            "value": "Downloading (…)solve/main/vocab.txt: 100%"
          }
        },
        "008c5a0df4c847a5a1a8fb3bf2f36470": {
          "model_module": "@jupyter-widgets/controls",
          "model_name": "FloatProgressModel",
          "model_module_version": "1.5.0",
          "state": {
            "_dom_classes": [],
            "_model_module": "@jupyter-widgets/controls",
            "_model_module_version": "1.5.0",
            "_model_name": "FloatProgressModel",
            "_view_count": null,
            "_view_module": "@jupyter-widgets/controls",
            "_view_module_version": "1.5.0",
            "_view_name": "ProgressView",
            "bar_style": "success",
            "description": "",
            "description_tooltip": null,
            "layout": "IPY_MODEL_007612cc1b9846f38b841cc87b8cf561",
            "max": 895321,
            "min": 0,
            "orientation": "horizontal",
            "style": "IPY_MODEL_f5d69905f5244174965ca132c468813d",
            "value": 895321
          }
        },
        "89fb6af6c980449e85e11f8e7937bc66": {
          "model_module": "@jupyter-widgets/controls",
          "model_name": "HTMLModel",
          "model_module_version": "1.5.0",
          "state": {
            "_dom_classes": [],
            "_model_module": "@jupyter-widgets/controls",
            "_model_module_version": "1.5.0",
            "_model_name": "HTMLModel",
            "_view_count": null,
            "_view_module": "@jupyter-widgets/controls",
            "_view_module_version": "1.5.0",
            "_view_name": "HTMLView",
            "description": "",
            "description_tooltip": null,
            "layout": "IPY_MODEL_519a2dc943a843f7b528fe8521a28bfb",
            "placeholder": "​",
            "style": "IPY_MODEL_932b6502ad684aa9998f8b514e4779c3",
            "value": " 895k/895k [00:00&lt;00:00, 13.3MB/s]"
          }
        },
        "06d97ba4b67944d5b4c82bbdd2c8a490": {
          "model_module": "@jupyter-widgets/base",
          "model_name": "LayoutModel",
          "model_module_version": "1.2.0",
          "state": {
            "_model_module": "@jupyter-widgets/base",
            "_model_module_version": "1.2.0",
            "_model_name": "LayoutModel",
            "_view_count": null,
            "_view_module": "@jupyter-widgets/base",
            "_view_module_version": "1.2.0",
            "_view_name": "LayoutView",
            "align_content": null,
            "align_items": null,
            "align_self": null,
            "border": null,
            "bottom": null,
            "display": null,
            "flex": null,
            "flex_flow": null,
            "grid_area": null,
            "grid_auto_columns": null,
            "grid_auto_flow": null,
            "grid_auto_rows": null,
            "grid_column": null,
            "grid_gap": null,
            "grid_row": null,
            "grid_template_areas": null,
            "grid_template_columns": null,
            "grid_template_rows": null,
            "height": null,
            "justify_content": null,
            "justify_items": null,
            "left": null,
            "margin": null,
            "max_height": null,
            "max_width": null,
            "min_height": null,
            "min_width": null,
            "object_fit": null,
            "object_position": null,
            "order": null,
            "overflow": null,
            "overflow_x": null,
            "overflow_y": null,
            "padding": null,
            "right": null,
            "top": null,
            "visibility": null,
            "width": null
          }
        },
        "d7b9719911534c7b8a03f4688286245b": {
          "model_module": "@jupyter-widgets/base",
          "model_name": "LayoutModel",
          "model_module_version": "1.2.0",
          "state": {
            "_model_module": "@jupyter-widgets/base",
            "_model_module_version": "1.2.0",
            "_model_name": "LayoutModel",
            "_view_count": null,
            "_view_module": "@jupyter-widgets/base",
            "_view_module_version": "1.2.0",
            "_view_name": "LayoutView",
            "align_content": null,
            "align_items": null,
            "align_self": null,
            "border": null,
            "bottom": null,
            "display": null,
            "flex": null,
            "flex_flow": null,
            "grid_area": null,
            "grid_auto_columns": null,
            "grid_auto_flow": null,
            "grid_auto_rows": null,
            "grid_column": null,
            "grid_gap": null,
            "grid_row": null,
            "grid_template_areas": null,
            "grid_template_columns": null,
            "grid_template_rows": null,
            "height": null,
            "justify_content": null,
            "justify_items": null,
            "left": null,
            "margin": null,
            "max_height": null,
            "max_width": null,
            "min_height": null,
            "min_width": null,
            "object_fit": null,
            "object_position": null,
            "order": null,
            "overflow": null,
            "overflow_x": null,
            "overflow_y": null,
            "padding": null,
            "right": null,
            "top": null,
            "visibility": null,
            "width": null
          }
        },
        "dff596b5aaa0444785aad6e04073ae54": {
          "model_module": "@jupyter-widgets/controls",
          "model_name": "DescriptionStyleModel",
          "model_module_version": "1.5.0",
          "state": {
            "_model_module": "@jupyter-widgets/controls",
            "_model_module_version": "1.5.0",
            "_model_name": "DescriptionStyleModel",
            "_view_count": null,
            "_view_module": "@jupyter-widgets/base",
            "_view_module_version": "1.2.0",
            "_view_name": "StyleView",
            "description_width": ""
          }
        },
        "007612cc1b9846f38b841cc87b8cf561": {
          "model_module": "@jupyter-widgets/base",
          "model_name": "LayoutModel",
          "model_module_version": "1.2.0",
          "state": {
            "_model_module": "@jupyter-widgets/base",
            "_model_module_version": "1.2.0",
            "_model_name": "LayoutModel",
            "_view_count": null,
            "_view_module": "@jupyter-widgets/base",
            "_view_module_version": "1.2.0",
            "_view_name": "LayoutView",
            "align_content": null,
            "align_items": null,
            "align_self": null,
            "border": null,
            "bottom": null,
            "display": null,
            "flex": null,
            "flex_flow": null,
            "grid_area": null,
            "grid_auto_columns": null,
            "grid_auto_flow": null,
            "grid_auto_rows": null,
            "grid_column": null,
            "grid_gap": null,
            "grid_row": null,
            "grid_template_areas": null,
            "grid_template_columns": null,
            "grid_template_rows": null,
            "height": null,
            "justify_content": null,
            "justify_items": null,
            "left": null,
            "margin": null,
            "max_height": null,
            "max_width": null,
            "min_height": null,
            "min_width": null,
            "object_fit": null,
            "object_position": null,
            "order": null,
            "overflow": null,
            "overflow_x": null,
            "overflow_y": null,
            "padding": null,
            "right": null,
            "top": null,
            "visibility": null,
            "width": null
          }
        },
        "f5d69905f5244174965ca132c468813d": {
          "model_module": "@jupyter-widgets/controls",
          "model_name": "ProgressStyleModel",
          "model_module_version": "1.5.0",
          "state": {
            "_model_module": "@jupyter-widgets/controls",
            "_model_module_version": "1.5.0",
            "_model_name": "ProgressStyleModel",
            "_view_count": null,
            "_view_module": "@jupyter-widgets/base",
            "_view_module_version": "1.2.0",
            "_view_name": "StyleView",
            "bar_color": null,
            "description_width": ""
          }
        },
        "519a2dc943a843f7b528fe8521a28bfb": {
          "model_module": "@jupyter-widgets/base",
          "model_name": "LayoutModel",
          "model_module_version": "1.2.0",
          "state": {
            "_model_module": "@jupyter-widgets/base",
            "_model_module_version": "1.2.0",
            "_model_name": "LayoutModel",
            "_view_count": null,
            "_view_module": "@jupyter-widgets/base",
            "_view_module_version": "1.2.0",
            "_view_name": "LayoutView",
            "align_content": null,
            "align_items": null,
            "align_self": null,
            "border": null,
            "bottom": null,
            "display": null,
            "flex": null,
            "flex_flow": null,
            "grid_area": null,
            "grid_auto_columns": null,
            "grid_auto_flow": null,
            "grid_auto_rows": null,
            "grid_column": null,
            "grid_gap": null,
            "grid_row": null,
            "grid_template_areas": null,
            "grid_template_columns": null,
            "grid_template_rows": null,
            "height": null,
            "justify_content": null,
            "justify_items": null,
            "left": null,
            "margin": null,
            "max_height": null,
            "max_width": null,
            "min_height": null,
            "min_width": null,
            "object_fit": null,
            "object_position": null,
            "order": null,
            "overflow": null,
            "overflow_x": null,
            "overflow_y": null,
            "padding": null,
            "right": null,
            "top": null,
            "visibility": null,
            "width": null
          }
        },
        "932b6502ad684aa9998f8b514e4779c3": {
          "model_module": "@jupyter-widgets/controls",
          "model_name": "DescriptionStyleModel",
          "model_module_version": "1.5.0",
          "state": {
            "_model_module": "@jupyter-widgets/controls",
            "_model_module_version": "1.5.0",
            "_model_name": "DescriptionStyleModel",
            "_view_count": null,
            "_view_module": "@jupyter-widgets/base",
            "_view_module_version": "1.2.0",
            "_view_name": "StyleView",
            "description_width": ""
          }
        },
        "ee345e0268cb448bbdbbfedcb91f41b6": {
          "model_module": "@jupyter-widgets/controls",
          "model_name": "HBoxModel",
          "model_module_version": "1.5.0",
          "state": {
            "_dom_classes": [],
            "_model_module": "@jupyter-widgets/controls",
            "_model_module_version": "1.5.0",
            "_model_name": "HBoxModel",
            "_view_count": null,
            "_view_module": "@jupyter-widgets/controls",
            "_view_module_version": "1.5.0",
            "_view_name": "HBoxView",
            "box_style": "",
            "children": [
              "IPY_MODEL_7a46e7767dba4dbda50892ccc5ae03d6",
              "IPY_MODEL_15aa7c49347145f9bda0cd21ed68bb08",
              "IPY_MODEL_e2b8fab27cec4e91914bf38ef9efac09"
            ],
            "layout": "IPY_MODEL_aaaf39d2bcf3483fa347eae2fb8d53b1"
          }
        },
        "7a46e7767dba4dbda50892ccc5ae03d6": {
          "model_module": "@jupyter-widgets/controls",
          "model_name": "HTMLModel",
          "model_module_version": "1.5.0",
          "state": {
            "_dom_classes": [],
            "_model_module": "@jupyter-widgets/controls",
            "_model_module_version": "1.5.0",
            "_model_name": "HTMLModel",
            "_view_count": null,
            "_view_module": "@jupyter-widgets/controls",
            "_view_module_version": "1.5.0",
            "_view_name": "HTMLView",
            "description": "",
            "description_tooltip": null,
            "layout": "IPY_MODEL_a876be257b71490c822b3ce5b0376f11",
            "placeholder": "​",
            "style": "IPY_MODEL_25eaaa60bb36470c89b2f0eebd201feb",
            "value": "Downloading (…)solve/main/bpe.codes: 100%"
          }
        },
        "15aa7c49347145f9bda0cd21ed68bb08": {
          "model_module": "@jupyter-widgets/controls",
          "model_name": "FloatProgressModel",
          "model_module_version": "1.5.0",
          "state": {
            "_dom_classes": [],
            "_model_module": "@jupyter-widgets/controls",
            "_model_module_version": "1.5.0",
            "_model_name": "FloatProgressModel",
            "_view_count": null,
            "_view_module": "@jupyter-widgets/controls",
            "_view_module_version": "1.5.0",
            "_view_name": "ProgressView",
            "bar_style": "success",
            "description": "",
            "description_tooltip": null,
            "layout": "IPY_MODEL_7a00aa5781bd42a5a66173617681052e",
            "max": 1135173,
            "min": 0,
            "orientation": "horizontal",
            "style": "IPY_MODEL_b8499e2a6fe04c49983ce517f3d497d2",
            "value": 1135173
          }
        },
        "e2b8fab27cec4e91914bf38ef9efac09": {
          "model_module": "@jupyter-widgets/controls",
          "model_name": "HTMLModel",
          "model_module_version": "1.5.0",
          "state": {
            "_dom_classes": [],
            "_model_module": "@jupyter-widgets/controls",
            "_model_module_version": "1.5.0",
            "_model_name": "HTMLModel",
            "_view_count": null,
            "_view_module": "@jupyter-widgets/controls",
            "_view_module_version": "1.5.0",
            "_view_name": "HTMLView",
            "description": "",
            "description_tooltip": null,
            "layout": "IPY_MODEL_d2d4467df6124d26b42f609d742a30fb",
            "placeholder": "​",
            "style": "IPY_MODEL_d2a4f0b54c62414aa21f9b5faf187b87",
            "value": " 1.14M/1.14M [00:00&lt;00:00, 9.86MB/s]"
          }
        },
        "aaaf39d2bcf3483fa347eae2fb8d53b1": {
          "model_module": "@jupyter-widgets/base",
          "model_name": "LayoutModel",
          "model_module_version": "1.2.0",
          "state": {
            "_model_module": "@jupyter-widgets/base",
            "_model_module_version": "1.2.0",
            "_model_name": "LayoutModel",
            "_view_count": null,
            "_view_module": "@jupyter-widgets/base",
            "_view_module_version": "1.2.0",
            "_view_name": "LayoutView",
            "align_content": null,
            "align_items": null,
            "align_self": null,
            "border": null,
            "bottom": null,
            "display": null,
            "flex": null,
            "flex_flow": null,
            "grid_area": null,
            "grid_auto_columns": null,
            "grid_auto_flow": null,
            "grid_auto_rows": null,
            "grid_column": null,
            "grid_gap": null,
            "grid_row": null,
            "grid_template_areas": null,
            "grid_template_columns": null,
            "grid_template_rows": null,
            "height": null,
            "justify_content": null,
            "justify_items": null,
            "left": null,
            "margin": null,
            "max_height": null,
            "max_width": null,
            "min_height": null,
            "min_width": null,
            "object_fit": null,
            "object_position": null,
            "order": null,
            "overflow": null,
            "overflow_x": null,
            "overflow_y": null,
            "padding": null,
            "right": null,
            "top": null,
            "visibility": null,
            "width": null
          }
        },
        "a876be257b71490c822b3ce5b0376f11": {
          "model_module": "@jupyter-widgets/base",
          "model_name": "LayoutModel",
          "model_module_version": "1.2.0",
          "state": {
            "_model_module": "@jupyter-widgets/base",
            "_model_module_version": "1.2.0",
            "_model_name": "LayoutModel",
            "_view_count": null,
            "_view_module": "@jupyter-widgets/base",
            "_view_module_version": "1.2.0",
            "_view_name": "LayoutView",
            "align_content": null,
            "align_items": null,
            "align_self": null,
            "border": null,
            "bottom": null,
            "display": null,
            "flex": null,
            "flex_flow": null,
            "grid_area": null,
            "grid_auto_columns": null,
            "grid_auto_flow": null,
            "grid_auto_rows": null,
            "grid_column": null,
            "grid_gap": null,
            "grid_row": null,
            "grid_template_areas": null,
            "grid_template_columns": null,
            "grid_template_rows": null,
            "height": null,
            "justify_content": null,
            "justify_items": null,
            "left": null,
            "margin": null,
            "max_height": null,
            "max_width": null,
            "min_height": null,
            "min_width": null,
            "object_fit": null,
            "object_position": null,
            "order": null,
            "overflow": null,
            "overflow_x": null,
            "overflow_y": null,
            "padding": null,
            "right": null,
            "top": null,
            "visibility": null,
            "width": null
          }
        },
        "25eaaa60bb36470c89b2f0eebd201feb": {
          "model_module": "@jupyter-widgets/controls",
          "model_name": "DescriptionStyleModel",
          "model_module_version": "1.5.0",
          "state": {
            "_model_module": "@jupyter-widgets/controls",
            "_model_module_version": "1.5.0",
            "_model_name": "DescriptionStyleModel",
            "_view_count": null,
            "_view_module": "@jupyter-widgets/base",
            "_view_module_version": "1.2.0",
            "_view_name": "StyleView",
            "description_width": ""
          }
        },
        "7a00aa5781bd42a5a66173617681052e": {
          "model_module": "@jupyter-widgets/base",
          "model_name": "LayoutModel",
          "model_module_version": "1.2.0",
          "state": {
            "_model_module": "@jupyter-widgets/base",
            "_model_module_version": "1.2.0",
            "_model_name": "LayoutModel",
            "_view_count": null,
            "_view_module": "@jupyter-widgets/base",
            "_view_module_version": "1.2.0",
            "_view_name": "LayoutView",
            "align_content": null,
            "align_items": null,
            "align_self": null,
            "border": null,
            "bottom": null,
            "display": null,
            "flex": null,
            "flex_flow": null,
            "grid_area": null,
            "grid_auto_columns": null,
            "grid_auto_flow": null,
            "grid_auto_rows": null,
            "grid_column": null,
            "grid_gap": null,
            "grid_row": null,
            "grid_template_areas": null,
            "grid_template_columns": null,
            "grid_template_rows": null,
            "height": null,
            "justify_content": null,
            "justify_items": null,
            "left": null,
            "margin": null,
            "max_height": null,
            "max_width": null,
            "min_height": null,
            "min_width": null,
            "object_fit": null,
            "object_position": null,
            "order": null,
            "overflow": null,
            "overflow_x": null,
            "overflow_y": null,
            "padding": null,
            "right": null,
            "top": null,
            "visibility": null,
            "width": null
          }
        },
        "b8499e2a6fe04c49983ce517f3d497d2": {
          "model_module": "@jupyter-widgets/controls",
          "model_name": "ProgressStyleModel",
          "model_module_version": "1.5.0",
          "state": {
            "_model_module": "@jupyter-widgets/controls",
            "_model_module_version": "1.5.0",
            "_model_name": "ProgressStyleModel",
            "_view_count": null,
            "_view_module": "@jupyter-widgets/base",
            "_view_module_version": "1.2.0",
            "_view_name": "StyleView",
            "bar_color": null,
            "description_width": ""
          }
        },
        "d2d4467df6124d26b42f609d742a30fb": {
          "model_module": "@jupyter-widgets/base",
          "model_name": "LayoutModel",
          "model_module_version": "1.2.0",
          "state": {
            "_model_module": "@jupyter-widgets/base",
            "_model_module_version": "1.2.0",
            "_model_name": "LayoutModel",
            "_view_count": null,
            "_view_module": "@jupyter-widgets/base",
            "_view_module_version": "1.2.0",
            "_view_name": "LayoutView",
            "align_content": null,
            "align_items": null,
            "align_self": null,
            "border": null,
            "bottom": null,
            "display": null,
            "flex": null,
            "flex_flow": null,
            "grid_area": null,
            "grid_auto_columns": null,
            "grid_auto_flow": null,
            "grid_auto_rows": null,
            "grid_column": null,
            "grid_gap": null,
            "grid_row": null,
            "grid_template_areas": null,
            "grid_template_columns": null,
            "grid_template_rows": null,
            "height": null,
            "justify_content": null,
            "justify_items": null,
            "left": null,
            "margin": null,
            "max_height": null,
            "max_width": null,
            "min_height": null,
            "min_width": null,
            "object_fit": null,
            "object_position": null,
            "order": null,
            "overflow": null,
            "overflow_x": null,
            "overflow_y": null,
            "padding": null,
            "right": null,
            "top": null,
            "visibility": null,
            "width": null
          }
        },
        "d2a4f0b54c62414aa21f9b5faf187b87": {
          "model_module": "@jupyter-widgets/controls",
          "model_name": "DescriptionStyleModel",
          "model_module_version": "1.5.0",
          "state": {
            "_model_module": "@jupyter-widgets/controls",
            "_model_module_version": "1.5.0",
            "_model_name": "DescriptionStyleModel",
            "_view_count": null,
            "_view_module": "@jupyter-widgets/base",
            "_view_module_version": "1.2.0",
            "_view_name": "StyleView",
            "description_width": ""
          }
        },
        "572521bd65d34b609a83f8e2d0450ce5": {
          "model_module": "@jupyter-widgets/controls",
          "model_name": "HBoxModel",
          "model_module_version": "1.5.0",
          "state": {
            "_dom_classes": [],
            "_model_module": "@jupyter-widgets/controls",
            "_model_module_version": "1.5.0",
            "_model_name": "HBoxModel",
            "_view_count": null,
            "_view_module": "@jupyter-widgets/controls",
            "_view_module_version": "1.5.0",
            "_view_name": "HBoxView",
            "box_style": "",
            "children": [
              "IPY_MODEL_873bb8fe47a64708b8db401e9a7ceac3",
              "IPY_MODEL_a776e49ebd6448c4bab7c4037e0c3045",
              "IPY_MODEL_1387d7d840884dd2be3db2c46cad0d3a"
            ],
            "layout": "IPY_MODEL_a87df8c1ed3443d5884160836ab35b20"
          }
        },
        "873bb8fe47a64708b8db401e9a7ceac3": {
          "model_module": "@jupyter-widgets/controls",
          "model_name": "HTMLModel",
          "model_module_version": "1.5.0",
          "state": {
            "_dom_classes": [],
            "_model_module": "@jupyter-widgets/controls",
            "_model_module_version": "1.5.0",
            "_model_name": "HTMLModel",
            "_view_count": null,
            "_view_module": "@jupyter-widgets/controls",
            "_view_module_version": "1.5.0",
            "_view_name": "HTMLView",
            "description": "",
            "description_tooltip": null,
            "layout": "IPY_MODEL_ac6b205c0b7e484e89d0c804839552ea",
            "placeholder": "​",
            "style": "IPY_MODEL_33679aea23cb43d5981c1eb656f305f4",
            "value": "Downloading pytorch_model.bin: 100%"
          }
        },
        "a776e49ebd6448c4bab7c4037e0c3045": {
          "model_module": "@jupyter-widgets/controls",
          "model_name": "FloatProgressModel",
          "model_module_version": "1.5.0",
          "state": {
            "_dom_classes": [],
            "_model_module": "@jupyter-widgets/controls",
            "_model_module_version": "1.5.0",
            "_model_name": "FloatProgressModel",
            "_view_count": null,
            "_view_module": "@jupyter-widgets/controls",
            "_view_module_version": "1.5.0",
            "_view_name": "ProgressView",
            "bar_style": "success",
            "description": "",
            "description_tooltip": null,
            "layout": "IPY_MODEL_78bea521096f4edaa8d76019316a07e8",
            "max": 542923308,
            "min": 0,
            "orientation": "horizontal",
            "style": "IPY_MODEL_409c55051f7d412da93210900d03aee2",
            "value": 542923308
          }
        },
        "1387d7d840884dd2be3db2c46cad0d3a": {
          "model_module": "@jupyter-widgets/controls",
          "model_name": "HTMLModel",
          "model_module_version": "1.5.0",
          "state": {
            "_dom_classes": [],
            "_model_module": "@jupyter-widgets/controls",
            "_model_module_version": "1.5.0",
            "_model_name": "HTMLModel",
            "_view_count": null,
            "_view_module": "@jupyter-widgets/controls",
            "_view_module_version": "1.5.0",
            "_view_name": "HTMLView",
            "description": "",
            "description_tooltip": null,
            "layout": "IPY_MODEL_7690755699c44636b8a04e0cc6217e7d",
            "placeholder": "​",
            "style": "IPY_MODEL_9bf0f9a0bbae4ab8a267f70cdf6aea5b",
            "value": " 543M/543M [00:06&lt;00:00, 158MB/s]"
          }
        },
        "a87df8c1ed3443d5884160836ab35b20": {
          "model_module": "@jupyter-widgets/base",
          "model_name": "LayoutModel",
          "model_module_version": "1.2.0",
          "state": {
            "_model_module": "@jupyter-widgets/base",
            "_model_module_version": "1.2.0",
            "_model_name": "LayoutModel",
            "_view_count": null,
            "_view_module": "@jupyter-widgets/base",
            "_view_module_version": "1.2.0",
            "_view_name": "LayoutView",
            "align_content": null,
            "align_items": null,
            "align_self": null,
            "border": null,
            "bottom": null,
            "display": null,
            "flex": null,
            "flex_flow": null,
            "grid_area": null,
            "grid_auto_columns": null,
            "grid_auto_flow": null,
            "grid_auto_rows": null,
            "grid_column": null,
            "grid_gap": null,
            "grid_row": null,
            "grid_template_areas": null,
            "grid_template_columns": null,
            "grid_template_rows": null,
            "height": null,
            "justify_content": null,
            "justify_items": null,
            "left": null,
            "margin": null,
            "max_height": null,
            "max_width": null,
            "min_height": null,
            "min_width": null,
            "object_fit": null,
            "object_position": null,
            "order": null,
            "overflow": null,
            "overflow_x": null,
            "overflow_y": null,
            "padding": null,
            "right": null,
            "top": null,
            "visibility": null,
            "width": null
          }
        },
        "ac6b205c0b7e484e89d0c804839552ea": {
          "model_module": "@jupyter-widgets/base",
          "model_name": "LayoutModel",
          "model_module_version": "1.2.0",
          "state": {
            "_model_module": "@jupyter-widgets/base",
            "_model_module_version": "1.2.0",
            "_model_name": "LayoutModel",
            "_view_count": null,
            "_view_module": "@jupyter-widgets/base",
            "_view_module_version": "1.2.0",
            "_view_name": "LayoutView",
            "align_content": null,
            "align_items": null,
            "align_self": null,
            "border": null,
            "bottom": null,
            "display": null,
            "flex": null,
            "flex_flow": null,
            "grid_area": null,
            "grid_auto_columns": null,
            "grid_auto_flow": null,
            "grid_auto_rows": null,
            "grid_column": null,
            "grid_gap": null,
            "grid_row": null,
            "grid_template_areas": null,
            "grid_template_columns": null,
            "grid_template_rows": null,
            "height": null,
            "justify_content": null,
            "justify_items": null,
            "left": null,
            "margin": null,
            "max_height": null,
            "max_width": null,
            "min_height": null,
            "min_width": null,
            "object_fit": null,
            "object_position": null,
            "order": null,
            "overflow": null,
            "overflow_x": null,
            "overflow_y": null,
            "padding": null,
            "right": null,
            "top": null,
            "visibility": null,
            "width": null
          }
        },
        "33679aea23cb43d5981c1eb656f305f4": {
          "model_module": "@jupyter-widgets/controls",
          "model_name": "DescriptionStyleModel",
          "model_module_version": "1.5.0",
          "state": {
            "_model_module": "@jupyter-widgets/controls",
            "_model_module_version": "1.5.0",
            "_model_name": "DescriptionStyleModel",
            "_view_count": null,
            "_view_module": "@jupyter-widgets/base",
            "_view_module_version": "1.2.0",
            "_view_name": "StyleView",
            "description_width": ""
          }
        },
        "78bea521096f4edaa8d76019316a07e8": {
          "model_module": "@jupyter-widgets/base",
          "model_name": "LayoutModel",
          "model_module_version": "1.2.0",
          "state": {
            "_model_module": "@jupyter-widgets/base",
            "_model_module_version": "1.2.0",
            "_model_name": "LayoutModel",
            "_view_count": null,
            "_view_module": "@jupyter-widgets/base",
            "_view_module_version": "1.2.0",
            "_view_name": "LayoutView",
            "align_content": null,
            "align_items": null,
            "align_self": null,
            "border": null,
            "bottom": null,
            "display": null,
            "flex": null,
            "flex_flow": null,
            "grid_area": null,
            "grid_auto_columns": null,
            "grid_auto_flow": null,
            "grid_auto_rows": null,
            "grid_column": null,
            "grid_gap": null,
            "grid_row": null,
            "grid_template_areas": null,
            "grid_template_columns": null,
            "grid_template_rows": null,
            "height": null,
            "justify_content": null,
            "justify_items": null,
            "left": null,
            "margin": null,
            "max_height": null,
            "max_width": null,
            "min_height": null,
            "min_width": null,
            "object_fit": null,
            "object_position": null,
            "order": null,
            "overflow": null,
            "overflow_x": null,
            "overflow_y": null,
            "padding": null,
            "right": null,
            "top": null,
            "visibility": null,
            "width": null
          }
        },
        "409c55051f7d412da93210900d03aee2": {
          "model_module": "@jupyter-widgets/controls",
          "model_name": "ProgressStyleModel",
          "model_module_version": "1.5.0",
          "state": {
            "_model_module": "@jupyter-widgets/controls",
            "_model_module_version": "1.5.0",
            "_model_name": "ProgressStyleModel",
            "_view_count": null,
            "_view_module": "@jupyter-widgets/base",
            "_view_module_version": "1.2.0",
            "_view_name": "StyleView",
            "bar_color": null,
            "description_width": ""
          }
        },
        "7690755699c44636b8a04e0cc6217e7d": {
          "model_module": "@jupyter-widgets/base",
          "model_name": "LayoutModel",
          "model_module_version": "1.2.0",
          "state": {
            "_model_module": "@jupyter-widgets/base",
            "_model_module_version": "1.2.0",
            "_model_name": "LayoutModel",
            "_view_count": null,
            "_view_module": "@jupyter-widgets/base",
            "_view_module_version": "1.2.0",
            "_view_name": "LayoutView",
            "align_content": null,
            "align_items": null,
            "align_self": null,
            "border": null,
            "bottom": null,
            "display": null,
            "flex": null,
            "flex_flow": null,
            "grid_area": null,
            "grid_auto_columns": null,
            "grid_auto_flow": null,
            "grid_auto_rows": null,
            "grid_column": null,
            "grid_gap": null,
            "grid_row": null,
            "grid_template_areas": null,
            "grid_template_columns": null,
            "grid_template_rows": null,
            "height": null,
            "justify_content": null,
            "justify_items": null,
            "left": null,
            "margin": null,
            "max_height": null,
            "max_width": null,
            "min_height": null,
            "min_width": null,
            "object_fit": null,
            "object_position": null,
            "order": null,
            "overflow": null,
            "overflow_x": null,
            "overflow_y": null,
            "padding": null,
            "right": null,
            "top": null,
            "visibility": null,
            "width": null
          }
        },
        "9bf0f9a0bbae4ab8a267f70cdf6aea5b": {
          "model_module": "@jupyter-widgets/controls",
          "model_name": "DescriptionStyleModel",
          "model_module_version": "1.5.0",
          "state": {
            "_model_module": "@jupyter-widgets/controls",
            "_model_module_version": "1.5.0",
            "_model_name": "DescriptionStyleModel",
            "_view_count": null,
            "_view_module": "@jupyter-widgets/base",
            "_view_module_version": "1.2.0",
            "_view_name": "StyleView",
            "description_width": ""
          }
        }
      }
    },
    "accelerator": "GPU"
  },
  "nbformat_minor": 0,
  "nbformat": 4,
  "cells": [
    {
      "cell_type": "code",
      "source": [
        "!pip install transformers"
      ],
      "metadata": {
        "colab": {
          "base_uri": "https://localhost:8080/"
        },
        "id": "brOS-cI4MJxP",
        "outputId": "c1b05682-c416-4174-c922-5f15a93e42f3",
        "execution": {
          "iopub.status.busy": "2022-12-13T11:51:12.661187Z",
          "iopub.execute_input": "2022-12-13T11:51:12.661550Z",
          "iopub.status.idle": "2022-12-13T11:51:21.958124Z",
          "shell.execute_reply.started": "2022-12-13T11:51:12.661516Z",
          "shell.execute_reply": "2022-12-13T11:51:21.956877Z"
        },
        "trusted": true
      },
      "execution_count": 1,
      "outputs": [
        {
          "output_type": "stream",
          "name": "stdout",
          "text": [
            "Collecting transformers\n",
            "  Downloading transformers-4.30.2-py3-none-any.whl (7.2 MB)\n",
            "\u001b[2K     \u001b[90m━━━━━━━━━━━━━━━━━━━━━━━━━━━━━━━━━━━━━━━━\u001b[0m \u001b[32m7.2/7.2 MB\u001b[0m \u001b[31m60.0 MB/s\u001b[0m eta \u001b[36m0:00:00\u001b[0m\n",
            "\u001b[?25hRequirement already satisfied: filelock in /usr/local/lib/python3.10/dist-packages (from transformers) (3.12.2)\n",
            "Collecting huggingface-hub<1.0,>=0.14.1 (from transformers)\n",
            "  Downloading huggingface_hub-0.16.2-py3-none-any.whl (268 kB)\n",
            "\u001b[2K     \u001b[90m━━━━━━━━━━━━━━━━━━━━━━━━━━━━━━━━━━━━━━\u001b[0m \u001b[32m268.5/268.5 kB\u001b[0m \u001b[31m25.9 MB/s\u001b[0m eta \u001b[36m0:00:00\u001b[0m\n",
            "\u001b[?25hRequirement already satisfied: numpy>=1.17 in /usr/local/lib/python3.10/dist-packages (from transformers) (1.22.4)\n",
            "Requirement already satisfied: packaging>=20.0 in /usr/local/lib/python3.10/dist-packages (from transformers) (23.1)\n",
            "Requirement already satisfied: pyyaml>=5.1 in /usr/local/lib/python3.10/dist-packages (from transformers) (6.0)\n",
            "Requirement already satisfied: regex!=2019.12.17 in /usr/local/lib/python3.10/dist-packages (from transformers) (2022.10.31)\n",
            "Requirement already satisfied: requests in /usr/local/lib/python3.10/dist-packages (from transformers) (2.27.1)\n",
            "Collecting tokenizers!=0.11.3,<0.14,>=0.11.1 (from transformers)\n",
            "  Downloading tokenizers-0.13.3-cp310-cp310-manylinux_2_17_x86_64.manylinux2014_x86_64.whl (7.8 MB)\n",
            "\u001b[2K     \u001b[90m━━━━━━━━━━━━━━━━━━━━━━━━━━━━━━━━━━━━━━━━\u001b[0m \u001b[32m7.8/7.8 MB\u001b[0m \u001b[31m60.0 MB/s\u001b[0m eta \u001b[36m0:00:00\u001b[0m\n",
            "\u001b[?25hCollecting safetensors>=0.3.1 (from transformers)\n",
            "  Downloading safetensors-0.3.1-cp310-cp310-manylinux_2_17_x86_64.manylinux2014_x86_64.whl (1.3 MB)\n",
            "\u001b[2K     \u001b[90m━━━━━━━━━━━━━━━━━━━━━━━━━━━━━━━━━━━━━━━━\u001b[0m \u001b[32m1.3/1.3 MB\u001b[0m \u001b[31m86.8 MB/s\u001b[0m eta \u001b[36m0:00:00\u001b[0m\n",
            "\u001b[?25hRequirement already satisfied: tqdm>=4.27 in /usr/local/lib/python3.10/dist-packages (from transformers) (4.65.0)\n",
            "Requirement already satisfied: fsspec in /usr/local/lib/python3.10/dist-packages (from huggingface-hub<1.0,>=0.14.1->transformers) (2023.6.0)\n",
            "Requirement already satisfied: typing-extensions>=3.7.4.3 in /usr/local/lib/python3.10/dist-packages (from huggingface-hub<1.0,>=0.14.1->transformers) (4.6.3)\n",
            "Requirement already satisfied: urllib3<1.27,>=1.21.1 in /usr/local/lib/python3.10/dist-packages (from requests->transformers) (1.26.16)\n",
            "Requirement already satisfied: certifi>=2017.4.17 in /usr/local/lib/python3.10/dist-packages (from requests->transformers) (2023.5.7)\n",
            "Requirement already satisfied: charset-normalizer~=2.0.0 in /usr/local/lib/python3.10/dist-packages (from requests->transformers) (2.0.12)\n",
            "Requirement already satisfied: idna<4,>=2.5 in /usr/local/lib/python3.10/dist-packages (from requests->transformers) (3.4)\n",
            "Installing collected packages: tokenizers, safetensors, huggingface-hub, transformers\n",
            "Successfully installed huggingface-hub-0.16.2 safetensors-0.3.1 tokenizers-0.13.3 transformers-4.30.2\n"
          ]
        }
      ]
    },
    {
      "cell_type": "code",
      "source": [
        "from transformers import logging\n",
        "logging.set_verbosity_error()"
      ],
      "metadata": {
        "execution": {
          "iopub.status.busy": "2022-12-13T11:51:31.278419Z",
          "iopub.execute_input": "2022-12-13T11:51:31.279152Z",
          "iopub.status.idle": "2022-12-13T11:51:31.286955Z",
          "shell.execute_reply.started": "2022-12-13T11:51:31.279110Z",
          "shell.execute_reply": "2022-12-13T11:51:31.285420Z"
        },
        "trusted": true,
        "id": "vRRF--ODP0k_"
      },
      "execution_count": 2,
      "outputs": []
    },
    {
      "cell_type": "code",
      "source": [
        "import pandas as pd\n",
        "data = pd.read_csv(\"/full_train.csv\")\n",
        "print(data['Comment'][0:10])"
      ],
      "metadata": {
        "colab": {
          "base_uri": "https://localhost:8080/"
        },
        "id": "rloT7v68ti-V",
        "outputId": "b8a0b4b2-808a-40bc-de98-dccce11fbe12",
        "execution": {
          "iopub.status.busy": "2022-12-13T11:51:31.290410Z",
          "iopub.execute_input": "2022-12-13T11:51:31.290880Z",
          "iopub.status.idle": "2022-12-13T11:51:31.453831Z",
          "shell.execute_reply.started": "2022-12-13T11:51:31.290842Z",
          "shell.execute_reply": "2022-12-13T11:51:31.452861Z"
        },
        "trusted": true
      },
      "execution_count": 4,
      "outputs": [
        {
          "output_type": "stream",
          "name": "stdout",
          "text": [
            "0    Xôi dẻo, đồ ăn đậm vị. Hộp xôi được lót lá trô...\n",
            "1    Gọi ship 1 xuất cari gà bánh naan và 3 miếng g...\n",
            "2    Thời tiết lạnh như này, cả nhà rủ nhau đến leg...\n",
            "3    Em có đọc review thấy mng bảo trà sữa nướng đề...\n",
            "4    Đồ ăn rất ngon, nhà hàng cũng rất đẹp, tất cả ...\n",
            "5    Đồ ăn ngon, đặt qua now shop để k cẩn thận bị ...\n",
            "6    Nhà hàng yêu thích của mình đây nè! Đến đây mì...\n",
            "7    🔸Vị trí: mặt đường Trung Yên rất dễ tìm, một d...\n",
            "8    Mình đã ăn tại đây và rất ngon,\\nChuẩn vị phố ...\n",
            "9    Thịt mềm, sốt ngon, dưa góp ăn cùng đỡ ngán\\nM...\n",
            "Name: Comment, dtype: object\n"
          ]
        }
      ]
    },
    {
      "cell_type": "code",
      "source": [
        "data = data.drop('Unnamed: 0', axis = 1)\n",
        "data = data.drop('RevId', axis = 1)\n",
        "data = data.drop('UserId', axis = 1)\n",
        "data = data.drop('image_urls', axis = 1)\n",
        "data"
      ],
      "metadata": {
        "colab": {
          "base_uri": "https://localhost:8080/",
          "height": 423
        },
        "id": "YnXpq_mLQ7jl",
        "outputId": "2226b932-cbdf-467e-dfd6-8ea48283417d"
      },
      "execution_count": 5,
      "outputs": [
        {
          "output_type": "execute_result",
          "data": {
            "text/plain": [
              "                                                Comment  Rating\n",
              "0     Xôi dẻo, đồ ăn đậm vị. Hộp xôi được lót lá trô...     1.0\n",
              "1     Gọi ship 1 xuất cari gà bánh naan và 3 miếng g...     0.0\n",
              "2     Thời tiết lạnh như này, cả nhà rủ nhau đến leg...     1.0\n",
              "3     Em có đọc review thấy mng bảo trà sữa nướng đề...     0.0\n",
              "4     Đồ ăn rất ngon, nhà hàng cũng rất đẹp, tất cả ...     1.0\n",
              "...                                                 ...     ...\n",
              "9068  Thực sự mà nói thấy mọi người đánh giá nhiều q...     1.0\n",
              "9069  👉👉👉LẨU THÁI TÔMYUM\\n👉👉Đc: 19 Lò Đúc-HBT-HN\\n👉T...     1.0\n",
              "9070  Ngay từ lúc đầu tiên bước vào nhà hàng đã được...     1.0\n",
              "9071  Đặt ăn thử mà thấy ngón cá...! 🤩 sẽ còn ủn hộ ...     1.0\n",
              "9072  Nay xem bóng đá VN lười nấu cơm. Nghe các bạn ...     1.0\n",
              "\n",
              "[9073 rows x 2 columns]"
            ],
            "text/html": [
              "\n",
              "  <div id=\"df-8275d6d8-f193-4691-92c7-d3a2caea507b\">\n",
              "    <div class=\"colab-df-container\">\n",
              "      <div>\n",
              "<style scoped>\n",
              "    .dataframe tbody tr th:only-of-type {\n",
              "        vertical-align: middle;\n",
              "    }\n",
              "\n",
              "    .dataframe tbody tr th {\n",
              "        vertical-align: top;\n",
              "    }\n",
              "\n",
              "    .dataframe thead th {\n",
              "        text-align: right;\n",
              "    }\n",
              "</style>\n",
              "<table border=\"1\" class=\"dataframe\">\n",
              "  <thead>\n",
              "    <tr style=\"text-align: right;\">\n",
              "      <th></th>\n",
              "      <th>Comment</th>\n",
              "      <th>Rating</th>\n",
              "    </tr>\n",
              "  </thead>\n",
              "  <tbody>\n",
              "    <tr>\n",
              "      <th>0</th>\n",
              "      <td>Xôi dẻo, đồ ăn đậm vị. Hộp xôi được lót lá trô...</td>\n",
              "      <td>1.0</td>\n",
              "    </tr>\n",
              "    <tr>\n",
              "      <th>1</th>\n",
              "      <td>Gọi ship 1 xuất cari gà bánh naan và 3 miếng g...</td>\n",
              "      <td>0.0</td>\n",
              "    </tr>\n",
              "    <tr>\n",
              "      <th>2</th>\n",
              "      <td>Thời tiết lạnh như này, cả nhà rủ nhau đến leg...</td>\n",
              "      <td>1.0</td>\n",
              "    </tr>\n",
              "    <tr>\n",
              "      <th>3</th>\n",
              "      <td>Em có đọc review thấy mng bảo trà sữa nướng đề...</td>\n",
              "      <td>0.0</td>\n",
              "    </tr>\n",
              "    <tr>\n",
              "      <th>4</th>\n",
              "      <td>Đồ ăn rất ngon, nhà hàng cũng rất đẹp, tất cả ...</td>\n",
              "      <td>1.0</td>\n",
              "    </tr>\n",
              "    <tr>\n",
              "      <th>...</th>\n",
              "      <td>...</td>\n",
              "      <td>...</td>\n",
              "    </tr>\n",
              "    <tr>\n",
              "      <th>9068</th>\n",
              "      <td>Thực sự mà nói thấy mọi người đánh giá nhiều q...</td>\n",
              "      <td>1.0</td>\n",
              "    </tr>\n",
              "    <tr>\n",
              "      <th>9069</th>\n",
              "      <td>👉👉👉LẨU THÁI TÔMYUM\\n👉👉Đc: 19 Lò Đúc-HBT-HN\\n👉T...</td>\n",
              "      <td>1.0</td>\n",
              "    </tr>\n",
              "    <tr>\n",
              "      <th>9070</th>\n",
              "      <td>Ngay từ lúc đầu tiên bước vào nhà hàng đã được...</td>\n",
              "      <td>1.0</td>\n",
              "    </tr>\n",
              "    <tr>\n",
              "      <th>9071</th>\n",
              "      <td>Đặt ăn thử mà thấy ngón cá...! 🤩 sẽ còn ủn hộ ...</td>\n",
              "      <td>1.0</td>\n",
              "    </tr>\n",
              "    <tr>\n",
              "      <th>9072</th>\n",
              "      <td>Nay xem bóng đá VN lười nấu cơm. Nghe các bạn ...</td>\n",
              "      <td>1.0</td>\n",
              "    </tr>\n",
              "  </tbody>\n",
              "</table>\n",
              "<p>9073 rows × 2 columns</p>\n",
              "</div>\n",
              "      <button class=\"colab-df-convert\" onclick=\"convertToInteractive('df-8275d6d8-f193-4691-92c7-d3a2caea507b')\"\n",
              "              title=\"Convert this dataframe to an interactive table.\"\n",
              "              style=\"display:none;\">\n",
              "        \n",
              "  <svg xmlns=\"http://www.w3.org/2000/svg\" height=\"24px\"viewBox=\"0 0 24 24\"\n",
              "       width=\"24px\">\n",
              "    <path d=\"M0 0h24v24H0V0z\" fill=\"none\"/>\n",
              "    <path d=\"M18.56 5.44l.94 2.06.94-2.06 2.06-.94-2.06-.94-.94-2.06-.94 2.06-2.06.94zm-11 1L8.5 8.5l.94-2.06 2.06-.94-2.06-.94L8.5 2.5l-.94 2.06-2.06.94zm10 10l.94 2.06.94-2.06 2.06-.94-2.06-.94-.94-2.06-.94 2.06-2.06.94z\"/><path d=\"M17.41 7.96l-1.37-1.37c-.4-.4-.92-.59-1.43-.59-.52 0-1.04.2-1.43.59L10.3 9.45l-7.72 7.72c-.78.78-.78 2.05 0 2.83L4 21.41c.39.39.9.59 1.41.59.51 0 1.02-.2 1.41-.59l7.78-7.78 2.81-2.81c.8-.78.8-2.07 0-2.86zM5.41 20L4 18.59l7.72-7.72 1.47 1.35L5.41 20z\"/>\n",
              "  </svg>\n",
              "      </button>\n",
              "      \n",
              "  <style>\n",
              "    .colab-df-container {\n",
              "      display:flex;\n",
              "      flex-wrap:wrap;\n",
              "      gap: 12px;\n",
              "    }\n",
              "\n",
              "    .colab-df-convert {\n",
              "      background-color: #E8F0FE;\n",
              "      border: none;\n",
              "      border-radius: 50%;\n",
              "      cursor: pointer;\n",
              "      display: none;\n",
              "      fill: #1967D2;\n",
              "      height: 32px;\n",
              "      padding: 0 0 0 0;\n",
              "      width: 32px;\n",
              "    }\n",
              "\n",
              "    .colab-df-convert:hover {\n",
              "      background-color: #E2EBFA;\n",
              "      box-shadow: 0px 1px 2px rgba(60, 64, 67, 0.3), 0px 1px 3px 1px rgba(60, 64, 67, 0.15);\n",
              "      fill: #174EA6;\n",
              "    }\n",
              "\n",
              "    [theme=dark] .colab-df-convert {\n",
              "      background-color: #3B4455;\n",
              "      fill: #D2E3FC;\n",
              "    }\n",
              "\n",
              "    [theme=dark] .colab-df-convert:hover {\n",
              "      background-color: #434B5C;\n",
              "      box-shadow: 0px 1px 3px 1px rgba(0, 0, 0, 0.15);\n",
              "      filter: drop-shadow(0px 1px 2px rgba(0, 0, 0, 0.3));\n",
              "      fill: #FFFFFF;\n",
              "    }\n",
              "  </style>\n",
              "\n",
              "      <script>\n",
              "        const buttonEl =\n",
              "          document.querySelector('#df-8275d6d8-f193-4691-92c7-d3a2caea507b button.colab-df-convert');\n",
              "        buttonEl.style.display =\n",
              "          google.colab.kernel.accessAllowed ? 'block' : 'none';\n",
              "\n",
              "        async function convertToInteractive(key) {\n",
              "          const element = document.querySelector('#df-8275d6d8-f193-4691-92c7-d3a2caea507b');\n",
              "          const dataTable =\n",
              "            await google.colab.kernel.invokeFunction('convertToInteractive',\n",
              "                                                     [key], {});\n",
              "          if (!dataTable) return;\n",
              "\n",
              "          const docLinkHtml = 'Like what you see? Visit the ' +\n",
              "            '<a target=\"_blank\" href=https://colab.research.google.com/notebooks/data_table.ipynb>data table notebook</a>'\n",
              "            + ' to learn more about interactive tables.';\n",
              "          element.innerHTML = '';\n",
              "          dataTable['output_type'] = 'display_data';\n",
              "          await google.colab.output.renderOutput(dataTable, element);\n",
              "          const docLink = document.createElement('div');\n",
              "          docLink.innerHTML = docLinkHtml;\n",
              "          element.appendChild(docLink);\n",
              "        }\n",
              "      </script>\n",
              "    </div>\n",
              "  </div>\n",
              "  "
            ]
          },
          "metadata": {},
          "execution_count": 5
        }
      ]
    },
    {
      "cell_type": "code",
      "source": [
        "import torch\n",
        "from transformers import AutoModel, AutoTokenizer\n",
        "tokenizer = AutoTokenizer.from_pretrained(\"vinai/phobert-base\", use_fast=False)"
      ],
      "metadata": {
        "colab": {
          "base_uri": "https://localhost:8080/",
          "height": 113,
          "referenced_widgets": [
            "7f4a8f3cd5c544868c9e39fc46106fb0",
            "d3322de93e524f709c9bde8311534b9f",
            "38e3babceefc4ce4a9229297cdd95de5",
            "c085a7e406ad48428105e7481ccc03b3",
            "39b05b0ad200422a81ca12c2c791bbff",
            "e513adf565634a18aa398a6fa878c083",
            "1b38062e57e34ec0ac778938643e7295",
            "c8b7c81591fc439da0270d45db57c060",
            "bfd08e062d4948e7a91fdf4f3ed3ec37",
            "db102b5c068c4129995621b362e35b21",
            "e07bbcf88902479892547b7bf23bffb2",
            "477ccba79bd14dd9afb8ccfac2a3813c",
            "483dbd93febb4ea586fcdc8ce53a2fd6",
            "008c5a0df4c847a5a1a8fb3bf2f36470",
            "89fb6af6c980449e85e11f8e7937bc66",
            "06d97ba4b67944d5b4c82bbdd2c8a490",
            "d7b9719911534c7b8a03f4688286245b",
            "dff596b5aaa0444785aad6e04073ae54",
            "007612cc1b9846f38b841cc87b8cf561",
            "f5d69905f5244174965ca132c468813d",
            "519a2dc943a843f7b528fe8521a28bfb",
            "932b6502ad684aa9998f8b514e4779c3",
            "ee345e0268cb448bbdbbfedcb91f41b6",
            "7a46e7767dba4dbda50892ccc5ae03d6",
            "15aa7c49347145f9bda0cd21ed68bb08",
            "e2b8fab27cec4e91914bf38ef9efac09",
            "aaaf39d2bcf3483fa347eae2fb8d53b1",
            "a876be257b71490c822b3ce5b0376f11",
            "25eaaa60bb36470c89b2f0eebd201feb",
            "7a00aa5781bd42a5a66173617681052e",
            "b8499e2a6fe04c49983ce517f3d497d2",
            "d2d4467df6124d26b42f609d742a30fb",
            "d2a4f0b54c62414aa21f9b5faf187b87"
          ]
        },
        "id": "Nat8MjW2L8ki",
        "outputId": "fb8a58bc-62fd-450e-f05f-08fd082a55dc",
        "execution": {
          "iopub.status.busy": "2022-12-13T11:51:31.488207Z",
          "iopub.execute_input": "2022-12-13T11:51:31.488654Z",
          "iopub.status.idle": "2022-12-13T11:51:34.360919Z",
          "shell.execute_reply.started": "2022-12-13T11:51:31.488617Z",
          "shell.execute_reply": "2022-12-13T11:51:34.359933Z"
        },
        "trusted": true
      },
      "execution_count": 12,
      "outputs": [
        {
          "output_type": "display_data",
          "data": {
            "text/plain": [
              "Downloading (…)lve/main/config.json:   0%|          | 0.00/557 [00:00<?, ?B/s]"
            ],
            "application/vnd.jupyter.widget-view+json": {
              "version_major": 2,
              "version_minor": 0,
              "model_id": "7f4a8f3cd5c544868c9e39fc46106fb0"
            }
          },
          "metadata": {}
        },
        {
          "output_type": "display_data",
          "data": {
            "text/plain": [
              "Downloading (…)solve/main/vocab.txt:   0%|          | 0.00/895k [00:00<?, ?B/s]"
            ],
            "application/vnd.jupyter.widget-view+json": {
              "version_major": 2,
              "version_minor": 0,
              "model_id": "477ccba79bd14dd9afb8ccfac2a3813c"
            }
          },
          "metadata": {}
        },
        {
          "output_type": "display_data",
          "data": {
            "text/plain": [
              "Downloading (…)solve/main/bpe.codes:   0%|          | 0.00/1.14M [00:00<?, ?B/s]"
            ],
            "application/vnd.jupyter.widget-view+json": {
              "version_major": 2,
              "version_minor": 0,
              "model_id": "ee345e0268cb448bbdbbfedcb91f41b6"
            }
          },
          "metadata": {}
        }
      ]
    },
    {
      "cell_type": "code",
      "source": [
        "len(tokenizer.get_vocab())"
      ],
      "metadata": {
        "execution": {
          "iopub.status.busy": "2022-12-13T11:51:34.362203Z",
          "iopub.execute_input": "2022-12-13T11:51:34.363211Z",
          "iopub.status.idle": "2022-12-13T11:51:34.377600Z",
          "shell.execute_reply.started": "2022-12-13T11:51:34.363173Z",
          "shell.execute_reply": "2022-12-13T11:51:34.376680Z"
        },
        "trusted": true,
        "colab": {
          "base_uri": "https://localhost:8080/"
        },
        "id": "wnJ9-8HOP0lB",
        "outputId": "9eb417fe-3fd6-47fb-fdb3-ffe7b7fb975d"
      },
      "execution_count": 13,
      "outputs": [
        {
          "output_type": "execute_result",
          "data": {
            "text/plain": [
              "64001"
            ]
          },
          "metadata": {},
          "execution_count": 13
        }
      ]
    },
    {
      "cell_type": "code",
      "source": [
        "corpus = []\n",
        "for tmp in zip(data[\"Comment\"], data[\"Rating\"]):\n",
        "  sent, lb = tmp\n",
        "\n",
        "  if(float(lb) == 1):\n",
        "    corpus.append((sent, 1))\n",
        "  if float(lb) == 0:\n",
        "    corpus.append((sent, 0))\n",
        "print(corpus[0])\n",
        "print(len(corpus))\n",
        "\n"
      ],
      "metadata": {
        "colab": {
          "base_uri": "https://localhost:8080/"
        },
        "id": "kSXygf9yLdiL",
        "outputId": "7cedabc9-f193-4531-f4aa-b1469ea6356c",
        "execution": {
          "iopub.status.busy": "2022-12-13T11:52:22.333369Z",
          "iopub.execute_input": "2022-12-13T11:52:22.333744Z",
          "iopub.status.idle": "2022-12-13T11:52:22.357942Z",
          "shell.execute_reply.started": "2022-12-13T11:52:22.333715Z",
          "shell.execute_reply": "2022-12-13T11:52:22.356807Z"
        },
        "trusted": true
      },
      "execution_count": 14,
      "outputs": [
        {
          "output_type": "stream",
          "name": "stdout",
          "text": [
            "('Xôi dẻo, đồ ăn đậm vị. Hộp xôi được lót lá trông rất thích', 1)\n",
            "9070\n"
          ]
        }
      ]
    },
    {
      "cell_type": "code",
      "source": [
        "def segment(corpus):\n",
        "  ct = []\n",
        "  lb = []\n",
        "  for content, label in corpus:\n",
        "#     if(type(content) == str):\n",
        "      ct.append(content)\n",
        "      lb.append(label)\n",
        "  return ct, lb"
      ],
      "metadata": {
        "id": "3RdqL7LGLxkq",
        "execution": {
          "iopub.status.busy": "2022-12-13T11:52:24.828198Z",
          "iopub.execute_input": "2022-12-13T11:52:24.828755Z",
          "iopub.status.idle": "2022-12-13T11:52:24.834966Z",
          "shell.execute_reply.started": "2022-12-13T11:52:24.828706Z",
          "shell.execute_reply": "2022-12-13T11:52:24.833884Z"
        },
        "trusted": true
      },
      "execution_count": 15,
      "outputs": []
    },
    {
      "cell_type": "code",
      "source": [
        "sents, labels = segment(corpus)\n",
        "print(sents[0], \" \", labels[0])"
      ],
      "metadata": {
        "colab": {
          "base_uri": "https://localhost:8080/"
        },
        "id": "dn94zZbGMk9I",
        "outputId": "28d26255-f8a0-4d77-a73d-30e7b609aa88",
        "execution": {
          "iopub.status.busy": "2022-12-13T11:52:26.263501Z",
          "iopub.execute_input": "2022-12-13T11:52:26.263952Z",
          "iopub.status.idle": "2022-12-13T11:52:26.273498Z",
          "shell.execute_reply.started": "2022-12-13T11:52:26.263907Z",
          "shell.execute_reply": "2022-12-13T11:52:26.272475Z"
        },
        "trusted": true
      },
      "execution_count": 16,
      "outputs": [
        {
          "output_type": "stream",
          "name": "stdout",
          "text": [
            "Xôi dẻo, đồ ăn đậm vị. Hộp xôi được lót lá trông rất thích   1\n"
          ]
        }
      ]
    },
    {
      "cell_type": "code",
      "source": [
        "print(len(sents))"
      ],
      "metadata": {
        "colab": {
          "base_uri": "https://localhost:8080/"
        },
        "id": "VuzYD8g92CJ0",
        "outputId": "61db6faa-0bbb-4c06-fcac-0f82454eae65",
        "execution": {
          "iopub.status.busy": "2022-12-13T11:52:28.741803Z",
          "iopub.execute_input": "2022-12-13T11:52:28.742193Z",
          "iopub.status.idle": "2022-12-13T11:52:28.749114Z",
          "shell.execute_reply.started": "2022-12-13T11:52:28.742159Z",
          "shell.execute_reply": "2022-12-13T11:52:28.747747Z"
        },
        "trusted": true
      },
      "execution_count": 17,
      "outputs": [
        {
          "output_type": "stream",
          "name": "stdout",
          "text": [
            "9070\n"
          ]
        }
      ]
    },
    {
      "cell_type": "code",
      "source": [
        "import numpy as np"
      ],
      "metadata": {
        "id": "y4VkGCJlN9lb",
        "execution": {
          "iopub.status.busy": "2022-12-13T11:52:30.599689Z",
          "iopub.execute_input": "2022-12-13T11:52:30.600288Z",
          "iopub.status.idle": "2022-12-13T11:52:30.604925Z",
          "shell.execute_reply.started": "2022-12-13T11:52:30.600250Z",
          "shell.execute_reply": "2022-12-13T11:52:30.603888Z"
        },
        "trusted": true
      },
      "execution_count": 18,
      "outputs": []
    },
    {
      "cell_type": "code",
      "source": [
        "def seed_everything(seed_value):\n",
        "    np.random.seed(seed_value)\n",
        "    torch.manual_seed(seed_value)\n",
        "\n",
        "    if torch.cuda.is_available():\n",
        "        torch.cuda.manual_seed(seed_value)\n",
        "        torch.cuda.manual_seed_all(seed_value)\n",
        "        torch.backends.cudnn.deterministic = True\n",
        "        torch.backends.cudnn.benchmark = True\n",
        "\n",
        "seed_everything(86)"
      ],
      "metadata": {
        "id": "iJ5dYHWFN7Mz",
        "execution": {
          "iopub.status.busy": "2022-12-13T11:52:31.770302Z",
          "iopub.execute_input": "2022-12-13T11:52:31.770650Z",
          "iopub.status.idle": "2022-12-13T11:52:31.777034Z",
          "shell.execute_reply.started": "2022-12-13T11:52:31.770620Z",
          "shell.execute_reply": "2022-12-13T11:52:31.775873Z"
        },
        "trusted": true
      },
      "execution_count": 19,
      "outputs": []
    },
    {
      "cell_type": "code",
      "source": [
        "k = 0\n",
        "for sent in sents:\n",
        "  if(sent.find(\"bình luận không xác định\") != -1):\n",
        "    print(sent)\n",
        "    k+=1\n",
        "k"
      ],
      "metadata": {
        "colab": {
          "base_uri": "https://localhost:8080/"
        },
        "id": "VQHimiVBQLan",
        "outputId": "dfa607b6-ade3-47ee-f471-4f4051bcecb6",
        "execution": {
          "iopub.status.busy": "2022-12-13T11:52:33.382748Z",
          "iopub.execute_input": "2022-12-13T11:52:33.383811Z",
          "iopub.status.idle": "2022-12-13T11:52:33.400090Z",
          "shell.execute_reply.started": "2022-12-13T11:52:33.383771Z",
          "shell.execute_reply": "2022-12-13T11:52:33.398984Z"
        },
        "trusted": true
      },
      "execution_count": 20,
      "outputs": [
        {
          "output_type": "execute_result",
          "data": {
            "text/plain": [
              "0"
            ]
          },
          "metadata": {},
          "execution_count": 20
        }
      ]
    },
    {
      "cell_type": "code",
      "source": [
        "s1 = u'ÀÁÂÃÈÉÊÌÍÒÓÔÕÙÚÝàáâãèéêìíòóôõùúýĂăĐđĨĩŨũƠơƯưẠạẢảẤấẦầẨẩẪẫẬậẮắẰằẲẳẴẵẶặẸẹẺẻẼẽẾếỀềỂểỄễỆệỈỉỊịỌọỎỏỐốỒồỔổỖỗỘộỚớỜờỞởỠỡỢợỤụỦủỨứỪừỬửỮữỰựỲỳỴỵỶỷỸỹ'\n",
        "def check_spell(string):\n",
        "  for c in string :\n",
        "    if c in s1:\n",
        "\n",
        "      return True\n",
        "  return False\n",
        "\n",
        "checked_sents = []\n",
        "\n",
        "for sent in sents:\n",
        "  if(not check_spell(sent)):\n",
        "    checked_sents.append(sent)\n",
        "\n",
        "print(len(checked_sents))"
      ],
      "metadata": {
        "id": "545NfWR68QzR",
        "execution": {
          "iopub.status.busy": "2022-12-13T11:52:34.632020Z",
          "iopub.execute_input": "2022-12-13T11:52:34.632376Z",
          "iopub.status.idle": "2022-12-13T11:52:34.646590Z",
          "shell.execute_reply.started": "2022-12-13T11:52:34.632347Z",
          "shell.execute_reply": "2022-12-13T11:52:34.645502Z"
        },
        "trusted": true,
        "colab": {
          "base_uri": "https://localhost:8080/"
        },
        "outputId": "5f32758e-7d32-48ba-8514-e768e529036b"
      },
      "execution_count": 21,
      "outputs": [
        {
          "output_type": "stream",
          "name": "stdout",
          "text": [
            "86\n"
          ]
        }
      ]
    },
    {
      "cell_type": "code",
      "source": [
        "for i in range(10):\n",
        "  print(i, checked_sents[i])"
      ],
      "metadata": {
        "id": "twyscBxu8mcO",
        "execution": {
          "iopub.status.busy": "2022-12-13T11:52:36.890089Z",
          "iopub.execute_input": "2022-12-13T11:52:36.890447Z",
          "iopub.status.idle": "2022-12-13T11:52:36.896835Z",
          "shell.execute_reply.started": "2022-12-13T11:52:36.890416Z",
          "shell.execute_reply": "2022-12-13T11:52:36.895604Z"
        },
        "trusted": true
      },
      "execution_count": null,
      "outputs": []
    },
    {
      "cell_type": "code",
      "source": [
        "from sklearn.model_selection import train_test_split\n",
        "\n",
        "train_sents, valid_sents, train_labels, valid_labels = train_test_split(sents, labels, test_size=0.2)\n",
        "print(len(train_sents), \" \", len(valid_sents))"
      ],
      "metadata": {
        "colab": {
          "base_uri": "https://localhost:8080/"
        },
        "id": "2bXi4oeeMzIa",
        "outputId": "6a5520f1-e654-4455-abc6-2bb68146dbe6",
        "execution": {
          "iopub.status.busy": "2022-12-13T11:52:46.022070Z",
          "iopub.execute_input": "2022-12-13T11:52:46.022945Z",
          "iopub.status.idle": "2022-12-13T11:52:46.034650Z",
          "shell.execute_reply.started": "2022-12-13T11:52:46.022905Z",
          "shell.execute_reply": "2022-12-13T11:52:46.033532Z"
        },
        "trusted": true
      },
      "execution_count": 23,
      "outputs": [
        {
          "output_type": "stream",
          "name": "stdout",
          "text": [
            "7256   1814\n"
          ]
        }
      ]
    },
    {
      "cell_type": "code",
      "source": [
        "len(train_sents)"
      ],
      "metadata": {
        "execution": {
          "iopub.status.busy": "2022-12-13T11:55:33.133839Z",
          "iopub.execute_input": "2022-12-13T11:55:33.134189Z",
          "iopub.status.idle": "2022-12-13T11:55:33.142918Z",
          "shell.execute_reply.started": "2022-12-13T11:55:33.134158Z",
          "shell.execute_reply": "2022-12-13T11:55:33.141780Z"
        },
        "trusted": true,
        "colab": {
          "base_uri": "https://localhost:8080/"
        },
        "id": "nDl7yG7VP0lF",
        "outputId": "8113bcad-b625-4e55-cfdc-afeadb89c6ce"
      },
      "execution_count": 24,
      "outputs": [
        {
          "output_type": "execute_result",
          "data": {
            "text/plain": [
              "7256"
            ]
          },
          "metadata": {},
          "execution_count": 24
        }
      ]
    },
    {
      "cell_type": "code",
      "source": [
        "sum_1 = 0\n",
        "sum_2 = 0\n",
        "for label in train_labels:\n",
        "  if label == 0:\n",
        "    sum_1 += 1\n",
        "  else:\n",
        "    sum_2 += 1\n",
        "print(sum_1, \" \", sum_2)\n",
        "sum_1 = 0\n",
        "sum_2 = 0\n",
        "for label in valid_labels:\n",
        "  if label == 0:\n",
        "    sum_1 += 1\n",
        "  else:\n",
        "    sum_2 += 1\n",
        "print(sum_1, sum_2)"
      ],
      "metadata": {
        "id": "rv_KWb4F0fqC",
        "execution": {
          "iopub.status.busy": "2022-12-13T11:55:35.013117Z",
          "iopub.execute_input": "2022-12-13T11:55:35.013548Z",
          "iopub.status.idle": "2022-12-13T11:55:35.029683Z",
          "shell.execute_reply.started": "2022-12-13T11:55:35.013508Z",
          "shell.execute_reply": "2022-12-13T11:55:35.028861Z"
        },
        "trusted": true,
        "colab": {
          "base_uri": "https://localhost:8080/"
        },
        "outputId": "e722b713-3178-4567-aae5-9a39c29c827e"
      },
      "execution_count": 25,
      "outputs": [
        {
          "output_type": "stream",
          "name": "stdout",
          "text": [
            "1539   5717\n",
            "385 1429\n"
          ]
        }
      ]
    },
    {
      "cell_type": "code",
      "source": [
        "print(train_sents[0])\n",
        "print( train_labels[0])"
      ],
      "metadata": {
        "id": "xpz10lXbPLhi",
        "execution": {
          "iopub.status.busy": "2022-12-13T11:55:37.035539Z",
          "iopub.execute_input": "2022-12-13T11:55:37.036017Z",
          "iopub.status.idle": "2022-12-13T11:55:37.045324Z",
          "shell.execute_reply.started": "2022-12-13T11:55:37.035974Z",
          "shell.execute_reply": "2022-12-13T11:55:37.044108Z"
        },
        "trusted": true,
        "colab": {
          "base_uri": "https://localhost:8080/"
        },
        "outputId": "b96201a1-a43b-4903-ce5d-f0d105867dc6"
      },
      "execution_count": 26,
      "outputs": [
        {
          "output_type": "stream",
          "name": "stdout",
          "text": [
            "Trước giờ mình nghiện nướng lụi Ngô Thì Nhậm mà quán lại đóng cửa huhu 😭😭. Vừa may tình cờ tìm được quán nướng 69 mới mở gần trường vào ăn thử rồi lại nghiện luôn nên review chia sẻ cho các bạn.\n",
            "🛣 Địa điểm: Quán ở đối diện với chè bưởi Tạ Quang Bửu, chếch cây xăng. Khu này khá nhiều quán bia và lẩu nướng. Khách ăn có thể để xe ngay trước quán hoặc bên cạnh, có nhân viên trông xe.\n",
            "❤️ Đồ ăn: mình ấn tượng nhất ở quán là nước chấm sốt me, đặc sánh, chua ngọt vị me chứ ko pha loãng như các quán nướng lụi khác. Thịt ướp đậm đà và sạch sẽ nữa vì nhìn thấy trực tiếp anh chủ quán làm luôn! Có lẽ mình thích nhất ở đây là nầm nướng, nầm ăn giòn và tươi, nhóm mình gọi 3 đĩa nầm liền luôn vì ngon quá 😂😂. Quán có cả lẩu Thái khá đậm vị Thái, có cả ngao và mực. Mình đi ăn 6 người, ăn nướng no bét nhè rồi nên ăn lẩu 1 nồi no căng luôn.\n",
            "❤️ Giá: Ăn bét nhè bàn 6 người mà đứng dậy shock khi thanh toán hết có 500k 😂😂😂. Mỗi đĩa thịt đồng giá 50k mà đầy muốn rơi ra ngoài, ko hề độn gì luôn ạ 😅.\n",
            "> Nhất định sẽ dẫn gia đình đến đây ăn lại, anh chủ quán cực nhiệt tình, dễ mến luôn. Best nướng của HN! ❤️\n",
            "1\n"
          ]
        }
      ]
    },
    {
      "cell_type": "code",
      "source": [
        "pip install Keras-Preprocessing"
      ],
      "metadata": {
        "id": "WTHPzB6lTddN"
      },
      "execution_count": null,
      "outputs": []
    },
    {
      "cell_type": "code",
      "source": [
        "import re\n",
        "from keras_preprocessing.sequence import pad_sequences\n",
        "import torch\n",
        "from torch.utils.data import TensorDataset, DataLoader, RandomSampler, SequentialSampler\n",
        "from gensim.utils import simple_preprocess"
      ],
      "metadata": {
        "id": "IN37KRu1AX9S",
        "execution": {
          "iopub.status.busy": "2022-12-13T11:55:52.543680Z",
          "iopub.execute_input": "2022-12-13T11:55:52.544405Z",
          "iopub.status.idle": "2022-12-13T11:55:52.549678Z",
          "shell.execute_reply.started": "2022-12-13T11:55:52.544366Z",
          "shell.execute_reply": "2022-12-13T11:55:52.548298Z"
        },
        "trusted": true
      },
      "execution_count": 29,
      "outputs": []
    },
    {
      "cell_type": "code",
      "source": [
        "pip install underthesea"
      ],
      "metadata": {
        "id": "TJKwk4J2ZQp2",
        "execution": {
          "iopub.status.busy": "2022-12-13T11:55:54.254513Z",
          "iopub.execute_input": "2022-12-13T11:55:54.254902Z",
          "iopub.status.idle": "2022-12-13T11:56:03.724690Z",
          "shell.execute_reply.started": "2022-12-13T11:55:54.254868Z",
          "shell.execute_reply": "2022-12-13T11:56:03.723135Z"
        },
        "trusted": true
      },
      "execution_count": null,
      "outputs": []
    },
    {
      "cell_type": "code",
      "source": [
        "from underthesea import text_normalize"
      ],
      "metadata": {
        "id": "nhv0LlrBZ9Ey",
        "execution": {
          "iopub.status.busy": "2022-12-13T11:56:03.742604Z",
          "iopub.execute_input": "2022-12-13T11:56:03.742972Z",
          "iopub.status.idle": "2022-12-13T11:56:03.749402Z",
          "shell.execute_reply.started": "2022-12-13T11:56:03.742938Z",
          "shell.execute_reply": "2022-12-13T11:56:03.748460Z"
        },
        "trusted": true
      },
      "execution_count": 31,
      "outputs": []
    },
    {
      "cell_type": "code",
      "source": [
        "def purify(text):\n",
        "  vietnamese_characters = \"a-zA-Z0-9ÀÁÂÃÈÉÊÌÍÒÓÔÕÙÚĂĐĨŨƠàáâãèéêìíòóôõùúăđĩũơƯĂẠẢẤẦẨẪẬẮẰẲẴẶẸẺẼỀỀỂẾưăạảấầẩẫậắằẳẵặẹẻẽềềểếỄỆỈỊỌỎỐỒỔỖỘỚỜỞỠỢỤỦỨỪễệỉịọỏốồổỗộớờởỡợụủứừỬỮỰỲỴÝỶỸửữựỳýỵỷỹ\"\n",
        "  text = text.lower()\n",
        "  text = text.strip()\n",
        "  # text = \" \"+ text + \" \"\n",
        "  text = re.sub(\"[+]\", ' ', text) #all math-operating characters removed\n",
        "  text = re.sub(\" \\\\[a-z]\", ' ', text)# all newline and slash characters removed\n",
        "\n",
        "  text = re.sub('[^' + vietnamese_characters + ']+', ' ', text) # all special characters removed\n",
        "  text = re.sub(\"([A-Za-z]+[0-9]+)|([0-9]+[A-Za-z]+)\", \" \", text) #150g\n",
        "  text = re.sub(\"[0-9]{3,}\", \" \", text) #all too long numbers (>= 3 digits) removed\n",
        "  text = re.sub(r'(\\D)\\1{2,}', r'\\1', text) # all consecutive duplicated characters removed\n",
        "  text = text.strip()\n",
        "\n",
        "  #all single-charater words removed\n",
        "  tmp_text = []\n",
        "  for x in text.split(\" \"):\n",
        "    if(len(x) > 1):\n",
        "      tmp_text.append(x)\n",
        "\n",
        "  text = \" \".join(tmp_text)\n",
        "  text = text_normalize(text)\n",
        "  return text\n"
      ],
      "metadata": {
        "id": "Ls93vtKZuuMv",
        "execution": {
          "iopub.status.busy": "2022-12-13T11:56:04.806364Z",
          "iopub.execute_input": "2022-12-13T11:56:04.806754Z",
          "iopub.status.idle": "2022-12-13T11:56:04.818377Z",
          "shell.execute_reply.started": "2022-12-13T11:56:04.806711Z",
          "shell.execute_reply": "2022-12-13T11:56:04.817261Z"
        },
        "trusted": true
      },
      "execution_count": 33,
      "outputs": []
    },
    {
      "cell_type": "code",
      "source": [
        "from underthesea import word_tokenize"
      ],
      "metadata": {
        "id": "azJmoZkv4nzq",
        "execution": {
          "iopub.status.busy": "2022-12-13T11:56:06.373073Z",
          "iopub.execute_input": "2022-12-13T11:56:06.373986Z",
          "iopub.status.idle": "2022-12-13T11:56:06.379171Z",
          "shell.execute_reply.started": "2022-12-13T11:56:06.373939Z",
          "shell.execute_reply": "2022-12-13T11:56:06.377973Z"
        },
        "trusted": true
      },
      "execution_count": 35,
      "outputs": []
    },
    {
      "cell_type": "code",
      "source": [
        "def preprocess(purified_sents, max_len=None):\n",
        "  preprocessed_sents = []\n",
        "  for purified_text in purified_sents:\n",
        "\n",
        "#     preprocessed by word_tokenize of underthesea\n",
        "    text = word_tokenize(purified_text, format = \"text\")\n",
        "    tmp_text = text\n",
        "\n",
        "    if(max_len is not None):\n",
        "      words = tmp_text.split(\" \")\n",
        "      if(len(words) > max_len):\n",
        "        words = words[0:max_len]\n",
        "      tmp_text = \" \".join(words)\n",
        "\n",
        "    preprocessed_sents.append(tmp_text)\n",
        "  return preprocessed_sents\n"
      ],
      "metadata": {
        "id": "Dcyb4YLMF8vk",
        "execution": {
          "iopub.status.busy": "2022-12-13T11:56:07.374462Z",
          "iopub.execute_input": "2022-12-13T11:56:07.374844Z",
          "iopub.status.idle": "2022-12-13T11:56:07.382012Z",
          "shell.execute_reply.started": "2022-12-13T11:56:07.374793Z",
          "shell.execute_reply": "2022-12-13T11:56:07.380927Z"
        },
        "trusted": true
      },
      "execution_count": 37,
      "outputs": []
    },
    {
      "cell_type": "code",
      "source": [
        "def encode_plus(preprocessed_sents,max_len=256):\n",
        "  encoded_sents = []\n",
        "  masks = []\n",
        "  for sent in preprocessed_sents:\n",
        "    sent_info = tokenizer.encode_plus(sent,\n",
        "                                      padding='max_length',\n",
        "                                      truncation=True,\n",
        "                                      add_special_tokens=True,\n",
        "                                      max_length = max_len,\n",
        "                                      return_token_type_ids=False,\n",
        "                                      return_attention_mask=True,\n",
        "                                     return_tensors='np')\n",
        "    encoded_sent = sent_info['input_ids'].flatten()\n",
        "    mask =  sent_info['attention_mask'].flatten()\n",
        "    encoded_sents.append(encoded_sent)\n",
        "    masks.append(mask)\n",
        "  return encoded_sents, masks"
      ],
      "metadata": {
        "id": "eExpagxBE_p-",
        "execution": {
          "iopub.status.busy": "2022-12-13T11:56:09.318792Z",
          "iopub.execute_input": "2022-12-13T11:56:09.319283Z",
          "iopub.status.idle": "2022-12-13T11:56:09.331416Z",
          "shell.execute_reply.started": "2022-12-13T11:56:09.319229Z",
          "shell.execute_reply": "2022-12-13T11:56:09.330306Z"
        },
        "trusted": true
      },
      "execution_count": 38,
      "outputs": []
    },
    {
      "cell_type": "code",
      "source": [
        "train_purified_sents = [purify(train_sent) for train_sent in train_sents]\n",
        "valid_purified_sents = [purify(valid_sent) for valid_sent in valid_sents]"
      ],
      "metadata": {
        "id": "cujZj6BZzUhx",
        "execution": {
          "iopub.status.busy": "2022-12-13T11:56:11.758979Z",
          "iopub.execute_input": "2022-12-13T11:56:11.759379Z",
          "iopub.status.idle": "2022-12-13T11:56:22.743732Z",
          "shell.execute_reply.started": "2022-12-13T11:56:11.759344Z",
          "shell.execute_reply": "2022-12-13T11:56:22.742743Z"
        },
        "trusted": true
      },
      "execution_count": 39,
      "outputs": []
    },
    {
      "cell_type": "code",
      "source": [
        "train_preprocessed_sents = preprocess(train_purified_sents)\n",
        "valid_preprocessed_sents = preprocess(valid_purified_sents)"
      ],
      "metadata": {
        "id": "yMA7wTyT3CJS",
        "execution": {
          "iopub.status.busy": "2022-12-13T11:56:22.745893Z",
          "iopub.execute_input": "2022-12-13T11:56:22.746393Z",
          "iopub.status.idle": "2022-12-13T11:57:06.391729Z",
          "shell.execute_reply.started": "2022-12-13T11:56:22.746355Z",
          "shell.execute_reply": "2022-12-13T11:57:06.390643Z"
        },
        "trusted": true
      },
      "execution_count": 40,
      "outputs": []
    },
    {
      "cell_type": "code",
      "source": [
        "train_ids, train_masks = encode_plus(train_preprocessed_sents, max_len=256)\n",
        "valid_ids, valid_masks = encode_plus(valid_preprocessed_sents, max_len=256)"
      ],
      "metadata": {
        "id": "QEbAswGLn9ka",
        "execution": {
          "iopub.status.busy": "2022-12-13T11:57:06.402509Z",
          "iopub.execute_input": "2022-12-13T11:57:06.402951Z",
          "iopub.status.idle": "2022-12-13T11:57:12.525337Z",
          "shell.execute_reply.started": "2022-12-13T11:57:06.402915Z",
          "shell.execute_reply": "2022-12-13T11:57:12.524350Z"
        },
        "trusted": true
      },
      "execution_count": 41,
      "outputs": []
    },
    {
      "cell_type": "code",
      "source": [
        "import numpy as np"
      ],
      "metadata": {
        "execution": {
          "iopub.status.busy": "2022-12-13T11:57:12.526621Z",
          "iopub.execute_input": "2022-12-13T11:57:12.526988Z",
          "iopub.status.idle": "2022-12-13T11:57:12.532253Z",
          "shell.execute_reply.started": "2022-12-13T11:57:12.526955Z",
          "shell.execute_reply": "2022-12-13T11:57:12.531314Z"
        },
        "trusted": true,
        "id": "773HTm2rP0lN"
      },
      "execution_count": 42,
      "outputs": []
    },
    {
      "cell_type": "code",
      "source": [
        "batch_size = 32\n",
        "train_inputs = torch.tensor(train_ids)\n",
        "valid_inputs = torch.tensor(valid_ids)\n",
        "train_labels = torch.tensor(train_labels)\n",
        "valid_labels = torch.tensor(valid_labels)\n",
        "train_masks = torch.tensor(train_masks)\n",
        "valid_masks = torch.tensor(valid_masks)\n",
        "\n",
        "train_data = TensorDataset(train_inputs, train_masks, train_labels)\n",
        "train_sampler = RandomSampler(train_data)\n",
        "train_dataloader = DataLoader(train_data, sampler=train_sampler, batch_size=batch_size)\n",
        "\n",
        "valid_data = TensorDataset(valid_inputs, valid_masks, valid_labels)\n",
        "valid_sampler = RandomSampler(valid_data)\n",
        "valid_dataloader = DataLoader(valid_data, sampler=valid_sampler, batch_size=batch_size)"
      ],
      "metadata": {
        "colab": {
          "base_uri": "https://localhost:8080/"
        },
        "id": "qD55wmzKF8vG",
        "outputId": "9196eba6-b8c4-4197-a1a8-44c88fc24999",
        "execution": {
          "iopub.status.busy": "2022-12-13T11:57:38.191323Z",
          "iopub.execute_input": "2022-12-13T11:57:38.191683Z",
          "iopub.status.idle": "2022-12-13T11:57:38.400537Z",
          "shell.execute_reply.started": "2022-12-13T11:57:38.191653Z",
          "shell.execute_reply": "2022-12-13T11:57:38.399490Z"
        },
        "trusted": true
      },
      "execution_count": 43,
      "outputs": [
        {
          "output_type": "stream",
          "name": "stderr",
          "text": [
            "<ipython-input-43-b0722a78d24c>:2: UserWarning: Creating a tensor from a list of numpy.ndarrays is extremely slow. Please consider converting the list to a single numpy.ndarray with numpy.array() before converting to a tensor. (Triggered internally at ../torch/csrc/utils/tensor_new.cpp:245.)\n",
            "  train_inputs = torch.tensor(train_ids)\n"
          ]
        }
      ]
    },
    {
      "cell_type": "code",
      "source": [
        "device = torch.device('cuda' if torch.cuda.is_available() else 'cpu')"
      ],
      "metadata": {
        "id": "mgcIdNAk8ukx",
        "execution": {
          "iopub.status.busy": "2022-12-13T11:57:45.494138Z",
          "iopub.execute_input": "2022-12-13T11:57:45.495012Z",
          "iopub.status.idle": "2022-12-13T11:57:45.500050Z",
          "shell.execute_reply.started": "2022-12-13T11:57:45.494973Z",
          "shell.execute_reply": "2022-12-13T11:57:45.498989Z"
        },
        "trusted": true
      },
      "execution_count": 44,
      "outputs": []
    },
    {
      "cell_type": "code",
      "source": [
        "device"
      ],
      "metadata": {
        "colab": {
          "base_uri": "https://localhost:8080/"
        },
        "id": "rrdASdT6860A",
        "outputId": "b9b11b82-48a9-4eb6-c0ae-815718b20320",
        "execution": {
          "iopub.status.busy": "2022-12-13T11:57:46.716260Z",
          "iopub.execute_input": "2022-12-13T11:57:46.716613Z",
          "iopub.status.idle": "2022-12-13T11:57:46.722848Z",
          "shell.execute_reply.started": "2022-12-13T11:57:46.716582Z",
          "shell.execute_reply": "2022-12-13T11:57:46.721892Z"
        },
        "trusted": true
      },
      "execution_count": 45,
      "outputs": [
        {
          "output_type": "execute_result",
          "data": {
            "text/plain": [
              "device(type='cuda')"
            ]
          },
          "metadata": {},
          "execution_count": 45
        }
      ]
    },
    {
      "cell_type": "code",
      "source": [
        "import torch.nn as nn\n",
        "import torch.nn.functional as F"
      ],
      "metadata": {
        "id": "UVOKlxhL-h8o",
        "execution": {
          "iopub.status.busy": "2022-12-13T11:57:50.091186Z",
          "iopub.execute_input": "2022-12-13T11:57:50.091538Z",
          "iopub.status.idle": "2022-12-13T11:57:50.097215Z",
          "shell.execute_reply.started": "2022-12-13T11:57:50.091507Z",
          "shell.execute_reply": "2022-12-13T11:57:50.095902Z"
        },
        "trusted": true
      },
      "execution_count": 46,
      "outputs": []
    },
    {
      "cell_type": "code",
      "source": [
        "class BERT_for_sentiment_large(nn.Module):\n",
        "  def __init__(self, output_size=2, dropout=0.1):\n",
        "    super(BERT_for_sentiment_large, self).__init__()\n",
        "    self.output_size = output_size\n",
        "    self.dropout = dropout\n",
        "    self.bert =  AutoModel.from_pretrained(\"vinai/phobert-base\", num_labels=2, output_hidden_states=True)\n",
        "    self.fc1 = nn.Linear(768, 768, bias=True)\n",
        "    self.layernorm_1 = nn.LayerNorm((768,), eps = 1e-05, elementwise_affine=True)\n",
        "    self.fc2 = nn.Linear(4*768, self.output_size, bias=True)\n",
        "    nn.init.normal_(self.fc1.weight, std=0.02)\n",
        "    nn.init.normal_(self.fc1.bias, 0)\n",
        "    nn.init.normal_(self.fc2.weight, std=0.02)\n",
        "    nn.init.normal_(self.fc2.bias, 0)\n",
        "\n",
        "  def forward(self, inputs, attention_mask):\n",
        "    outputs = self.bert(input_ids=inputs, attention_mask=attention_mask)\n",
        "    x = torch.cat((outputs[2][-1][:,0, ...],outputs[2][-2][:,0, ...], outputs[2][-3][:,0, ...], outputs[2][-4][:,0, ...]),-1)\n",
        "#     x = F.dropout(x, self.dropout, inplace=False)\n",
        "#     x = self.fc1(x)\n",
        "#     x = self.layernorm_1(x)\n",
        "#     x = F.dropout(x, self.dropout, inplace=False)\n",
        "    x = self.fc2(x)\n",
        "#     out = F.softmax(x, dim=-1)\n",
        "    out = x\n",
        "    return out\n",
        ""
      ],
      "metadata": {
        "execution": {
          "iopub.status.busy": "2022-12-13T11:57:57.363607Z",
          "iopub.execute_input": "2022-12-13T11:57:57.363996Z",
          "iopub.status.idle": "2022-12-13T11:57:57.375578Z",
          "shell.execute_reply.started": "2022-12-13T11:57:57.363962Z",
          "shell.execute_reply": "2022-12-13T11:57:57.373950Z"
        },
        "trusted": true,
        "id": "3jIpA8yQP0lQ"
      },
      "execution_count": 48,
      "outputs": []
    },
    {
      "cell_type": "code",
      "source": [
        "model = BERT_for_sentiment_large(output_size=2)"
      ],
      "metadata": {
        "id": "B3_mmYmRTmd7",
        "execution": {
          "iopub.status.busy": "2022-12-13T11:58:04.374179Z",
          "iopub.execute_input": "2022-12-13T11:58:04.374626Z",
          "iopub.status.idle": "2022-12-13T11:58:06.776347Z",
          "shell.execute_reply.started": "2022-12-13T11:58:04.374584Z",
          "shell.execute_reply": "2022-12-13T11:58:06.775337Z"
        },
        "trusted": true,
        "colab": {
          "base_uri": "https://localhost:8080/",
          "height": 49,
          "referenced_widgets": [
            "572521bd65d34b609a83f8e2d0450ce5",
            "873bb8fe47a64708b8db401e9a7ceac3",
            "a776e49ebd6448c4bab7c4037e0c3045",
            "1387d7d840884dd2be3db2c46cad0d3a",
            "a87df8c1ed3443d5884160836ab35b20",
            "ac6b205c0b7e484e89d0c804839552ea",
            "33679aea23cb43d5981c1eb656f305f4",
            "78bea521096f4edaa8d76019316a07e8",
            "409c55051f7d412da93210900d03aee2",
            "7690755699c44636b8a04e0cc6217e7d",
            "9bf0f9a0bbae4ab8a267f70cdf6aea5b"
          ]
        },
        "outputId": "0ed988f9-d4b9-496c-ee7c-bf9884ceeb06"
      },
      "execution_count": 49,
      "outputs": [
        {
          "output_type": "display_data",
          "data": {
            "text/plain": [
              "Downloading pytorch_model.bin:   0%|          | 0.00/543M [00:00<?, ?B/s]"
            ],
            "application/vnd.jupyter.widget-view+json": {
              "version_major": 2,
              "version_minor": 0,
              "model_id": "572521bd65d34b609a83f8e2d0450ce5"
            }
          },
          "metadata": {}
        }
      ]
    },
    {
      "cell_type": "code",
      "source": [
        "for i, child in enumerate(model.children()):\n",
        "    print(\"i = \", i, \" \", child)"
      ],
      "metadata": {
        "execution": {
          "iopub.status.busy": "2022-12-13T11:58:06.778098Z",
          "iopub.execute_input": "2022-12-13T11:58:06.780087Z",
          "iopub.status.idle": "2022-12-13T11:58:06.788228Z",
          "shell.execute_reply.started": "2022-12-13T11:58:06.780048Z",
          "shell.execute_reply": "2022-12-13T11:58:06.787166Z"
        },
        "trusted": true,
        "colab": {
          "base_uri": "https://localhost:8080/"
        },
        "id": "mz-PNTHvP0lR",
        "outputId": "718e1585-5fa8-4ee7-c2c8-67775be2e3e0"
      },
      "execution_count": 50,
      "outputs": [
        {
          "output_type": "stream",
          "name": "stdout",
          "text": [
            "i =  0   RobertaModel(\n",
            "  (embeddings): RobertaEmbeddings(\n",
            "    (word_embeddings): Embedding(64001, 768, padding_idx=1)\n",
            "    (position_embeddings): Embedding(258, 768, padding_idx=1)\n",
            "    (token_type_embeddings): Embedding(1, 768)\n",
            "    (LayerNorm): LayerNorm((768,), eps=1e-05, elementwise_affine=True)\n",
            "    (dropout): Dropout(p=0.1, inplace=False)\n",
            "  )\n",
            "  (encoder): RobertaEncoder(\n",
            "    (layer): ModuleList(\n",
            "      (0-11): 12 x RobertaLayer(\n",
            "        (attention): RobertaAttention(\n",
            "          (self): RobertaSelfAttention(\n",
            "            (query): Linear(in_features=768, out_features=768, bias=True)\n",
            "            (key): Linear(in_features=768, out_features=768, bias=True)\n",
            "            (value): Linear(in_features=768, out_features=768, bias=True)\n",
            "            (dropout): Dropout(p=0.1, inplace=False)\n",
            "          )\n",
            "          (output): RobertaSelfOutput(\n",
            "            (dense): Linear(in_features=768, out_features=768, bias=True)\n",
            "            (LayerNorm): LayerNorm((768,), eps=1e-05, elementwise_affine=True)\n",
            "            (dropout): Dropout(p=0.1, inplace=False)\n",
            "          )\n",
            "        )\n",
            "        (intermediate): RobertaIntermediate(\n",
            "          (dense): Linear(in_features=768, out_features=3072, bias=True)\n",
            "          (intermediate_act_fn): GELUActivation()\n",
            "        )\n",
            "        (output): RobertaOutput(\n",
            "          (dense): Linear(in_features=3072, out_features=768, bias=True)\n",
            "          (LayerNorm): LayerNorm((768,), eps=1e-05, elementwise_affine=True)\n",
            "          (dropout): Dropout(p=0.1, inplace=False)\n",
            "        )\n",
            "      )\n",
            "    )\n",
            "  )\n",
            "  (pooler): RobertaPooler(\n",
            "    (dense): Linear(in_features=768, out_features=768, bias=True)\n",
            "    (activation): Tanh()\n",
            "  )\n",
            ")\n",
            "i =  1   Linear(in_features=768, out_features=768, bias=True)\n",
            "i =  2   LayerNorm((768,), eps=1e-05, elementwise_affine=True)\n",
            "i =  3   Linear(in_features=3072, out_features=2, bias=True)\n"
          ]
        }
      ]
    },
    {
      "cell_type": "code",
      "source": [
        "import torch.nn as nn\n",
        "import torch.optim as optim\n",
        "from transformers import get_linear_schedule_with_warmup\n",
        "\n",
        "max_epochs = 10\n",
        "learning_rate = 2*1e-5\n",
        "\n",
        "weight_decay = 0.01\n",
        "optimizing_parameters = filter(lambda p: p.requires_grad, model.parameters())\n",
        "criterion = nn.CrossEntropyLoss()\n",
        "\n",
        "optimizer = optim.AdamW(\n",
        "    optimizing_parameters,\n",
        "    lr=learning_rate,\n",
        "    weight_decay=weight_decay\n",
        ")\n",
        "lr_scheduler = get_linear_schedule_with_warmup(\n",
        "                optimizer,\n",
        "                num_warmup_steps=0,\n",
        "                num_training_steps=len(train_dataloader)*max_epochs\n",
        "            )"
      ],
      "metadata": {
        "id": "PAYgHw8EgdGI",
        "execution": {
          "iopub.status.busy": "2022-12-13T11:58:13.400486Z",
          "iopub.execute_input": "2022-12-13T11:58:13.400870Z",
          "iopub.status.idle": "2022-12-13T11:58:13.409301Z",
          "shell.execute_reply.started": "2022-12-13T11:58:13.400826Z",
          "shell.execute_reply": "2022-12-13T11:58:13.408223Z"
        },
        "trusted": true
      },
      "execution_count": 51,
      "outputs": []
    },
    {
      "cell_type": "code",
      "source": [
        "import numpy as np\n",
        "def flat_accuracy(preds, labels):\n",
        "    pred_flat = np.argmax(preds, axis=1).flatten()\n",
        "    labels_flat = labels.flatten()\n",
        "    return np.sum(pred_flat == labels_flat) / len(labels_flat)"
      ],
      "metadata": {
        "id": "k_I89RsSMUvD",
        "execution": {
          "iopub.status.busy": "2022-12-13T11:58:19.412627Z",
          "iopub.execute_input": "2022-12-13T11:58:19.413004Z",
          "iopub.status.idle": "2022-12-13T11:58:19.419210Z",
          "shell.execute_reply.started": "2022-12-13T11:58:19.412971Z",
          "shell.execute_reply": "2022-12-13T11:58:19.418024Z"
        },
        "trusted": true
      },
      "execution_count": 52,
      "outputs": []
    },
    {
      "cell_type": "code",
      "source": [
        "device"
      ],
      "metadata": {
        "colab": {
          "base_uri": "https://localhost:8080/"
        },
        "id": "GcY1LBg1S-Fn",
        "outputId": "133f2878-50ac-45c4-99a8-689ab43cdc3d",
        "execution": {
          "iopub.status.busy": "2022-12-13T11:58:20.742339Z",
          "iopub.execute_input": "2022-12-13T11:58:20.742697Z",
          "iopub.status.idle": "2022-12-13T11:58:20.752049Z",
          "shell.execute_reply.started": "2022-12-13T11:58:20.742665Z",
          "shell.execute_reply": "2022-12-13T11:58:20.751036Z"
        },
        "trusted": true
      },
      "execution_count": 53,
      "outputs": [
        {
          "output_type": "execute_result",
          "data": {
            "text/plain": [
              "device(type='cuda')"
            ]
          },
          "metadata": {},
          "execution_count": 53
        }
      ]
    },
    {
      "cell_type": "code",
      "source": [
        "model = model.to(device)"
      ],
      "metadata": {
        "id": "qmDMNVUArjgC",
        "execution": {
          "iopub.status.busy": "2022-12-13T11:58:21.788537Z",
          "iopub.execute_input": "2022-12-13T11:58:21.788921Z",
          "iopub.status.idle": "2022-12-13T11:58:21.938838Z",
          "shell.execute_reply.started": "2022-12-13T11:58:21.788888Z",
          "shell.execute_reply": "2022-12-13T11:58:21.937848Z"
        },
        "trusted": true
      },
      "execution_count": 54,
      "outputs": []
    },
    {
      "cell_type": "code",
      "source": [
        "from tqdm import tqdm, tqdm_notebook"
      ],
      "metadata": {
        "id": "y7cVg9zoQNGE",
        "execution": {
          "iopub.status.busy": "2022-12-13T11:58:24.700102Z",
          "iopub.execute_input": "2022-12-13T11:58:24.700469Z",
          "iopub.status.idle": "2022-12-13T11:58:24.705663Z",
          "shell.execute_reply.started": "2022-12-13T11:58:24.700437Z",
          "shell.execute_reply": "2022-12-13T11:58:24.704476Z"
        },
        "trusted": true
      },
      "execution_count": 55,
      "outputs": []
    },
    {
      "cell_type": "code",
      "source": [
        "def train_epoch(model,criterion, optimizer,scheduler, train_loader):\n",
        "  total_loss = 0\n",
        "  total_acc = 0\n",
        "  total = 0\n",
        "  tmp = 0\n",
        "  model.train()\n",
        "\n",
        "  for batch in tqdm(train_loader):\n",
        "    input_ids, input_mask, labels = batch\n",
        "\n",
        "    input_ids = input_ids.to(device)\n",
        "    input_mask = input_mask.to(device)\n",
        "    labels = labels.to(device)\n",
        "\n",
        "    optimizer.zero_grad()\n",
        "    output = model(input_ids, attention_mask=input_mask)\n",
        "    loss = criterion(output, labels)\n",
        "\n",
        "    loss.backward()\n",
        "\n",
        "    nn.utils.clip_grad_norm_(optimizing_parameters, max_norm=1.0)\n",
        "    optimizer.step()\n",
        "    scheduler.step()\n",
        "\n",
        "    total_loss += loss.item()\n",
        "    total += len(labels)\n",
        "\n",
        "    logits = output.detach().cpu().numpy()\n",
        "    labels = labels.to('cpu').numpy()\n",
        "    acc = flat_accuracy(logits, labels)\n",
        "\n",
        "    total_acc += acc\n",
        "\n",
        "    tmp += 1\n",
        "\n",
        "  return total_loss/total, total_acc / tmp"
      ],
      "metadata": {
        "id": "2ti2-RyT3jth",
        "execution": {
          "iopub.status.busy": "2022-12-13T11:58:25.696334Z",
          "iopub.execute_input": "2022-12-13T11:58:25.696699Z",
          "iopub.status.idle": "2022-12-13T11:58:25.705740Z",
          "shell.execute_reply.started": "2022-12-13T11:58:25.696668Z",
          "shell.execute_reply": "2022-12-13T11:58:25.704528Z"
        },
        "trusted": true
      },
      "execution_count": 57,
      "outputs": []
    },
    {
      "cell_type": "code",
      "source": [
        "def validate_epoch(model,criterion,valid_loader):\n",
        "    model.eval()\n",
        "    total_loss = total = 0\n",
        "    accuracy = 0\n",
        "    eval_f1 = 0\n",
        "    tmp = 0\n",
        "    for batch in tqdm(valid_loader):\n",
        "      input_ids, input_mask, labels = batch\n",
        "\n",
        "      input_ids = input_ids.to(device=device)\n",
        "      input_mask = input_mask.to(device=device)\n",
        "      labels = labels.to(device=device)\n",
        "\n",
        "          # Forwards pass\n",
        "      with torch.no_grad():\n",
        "        logits = model(input_ids, attention_mask=input_mask)\n",
        "\n",
        "          # Calculate how wrong the model is\n",
        "        loss = criterion(logits, labels)\n",
        "\n",
        "        logits = logits.detach().cpu().numpy()\n",
        "        labels = labels.to('cpu').numpy()\n",
        "\n",
        "\n",
        "        acc = flat_accuracy(logits, labels)\n",
        "        accuracy += acc\n",
        "        # Record metrics\n",
        "        total_loss += loss.item()\n",
        "        total += len(labels)\n",
        "        tmp += 1\n",
        "    return total_loss / total , accuracy / tmp"
      ],
      "metadata": {
        "id": "XutIx7lrVHUO",
        "execution": {
          "iopub.status.busy": "2022-12-13T11:58:27.239340Z",
          "iopub.execute_input": "2022-12-13T11:58:27.239699Z",
          "iopub.status.idle": "2022-12-13T11:58:27.248093Z",
          "shell.execute_reply.started": "2022-12-13T11:58:27.239668Z",
          "shell.execute_reply": "2022-12-13T11:58:27.246959Z"
        },
        "trusted": true
      },
      "execution_count": 58,
      "outputs": []
    },
    {
      "cell_type": "code",
      "source": [
        "max_epochs = 10\n",
        "n_epochs = 0\n",
        "train_losses, valid_losses = [], []\n",
        "train_acces, valid_acces = [], []\n",
        "for _ in range(max_epochs):\n",
        "    train_loss, train_acc = train_epoch(model,criterion, optimizer,lr_scheduler, train_dataloader)\n",
        "    valid_loss, valid_acc = validate_epoch(model,criterion, valid_dataloader)\n",
        "\n",
        "    tqdm.write(\n",
        "        f'epoch #{n_epochs + 1:3d}\\n'\n",
        "        f'train_loss: {train_loss:.2e}'\n",
        "        f'\\ttrain_acc: {train_acc:.2e}\\n'\n",
        "        f'valid_loss: {valid_loss:.2e}'\n",
        "        f'\\tvalid_acc: {valid_acc:.2e}\\n',\n",
        "    )\n",
        "\n",
        "    print(\"saving model:...\")\n",
        "    torch.save(model.state_dict(), f'/phobert_linear_train_crawl_{n_epochs+1}.pt')\n",
        "    train_losses.append(train_loss)\n",
        "    valid_losses.append(valid_loss)\n",
        "    train_acces.append(train_acc)\n",
        "    valid_acces.append(valid_acc)\n",
        "    n_epochs += 1"
      ],
      "metadata": {
        "id": "IiTKmnNIWpG_",
        "execution": {
          "iopub.status.busy": "2022-12-13T11:58:40.963478Z",
          "iopub.execute_input": "2022-12-13T11:58:40.963866Z",
          "iopub.status.idle": "2022-12-13T12:28:12.319882Z",
          "shell.execute_reply.started": "2022-12-13T11:58:40.963811Z",
          "shell.execute_reply": "2022-12-13T12:28:12.317867Z"
        },
        "trusted": true,
        "colab": {
          "base_uri": "https://localhost:8080/"
        },
        "outputId": "49837430-81de-4a53-e8c3-197562f2c7b0"
      },
      "execution_count": 64,
      "outputs": [
        {
          "output_type": "stream",
          "name": "stderr",
          "text": [
            "100%|██████████| 227/227 [04:39<00:00,  1.23s/it]\n",
            "100%|██████████| 57/57 [00:23<00:00,  2.40it/s]\n"
          ]
        },
        {
          "output_type": "stream",
          "name": "stdout",
          "text": [
            "epoch #  1\n",
            "train_loss: 6.43e-03\ttrain_acc: 9.30e-01\n",
            "valid_loss: 6.76e-03\tvalid_acc: 9.24e-01\n",
            "\n",
            "saving model:...\n"
          ]
        },
        {
          "output_type": "stream",
          "name": "stderr",
          "text": [
            "100%|██████████| 227/227 [04:47<00:00,  1.27s/it]\n",
            "100%|██████████| 57/57 [00:23<00:00,  2.39it/s]\n"
          ]
        },
        {
          "output_type": "stream",
          "name": "stdout",
          "text": [
            "epoch #  2\n",
            "train_loss: 5.66e-03\ttrain_acc: 9.42e-01\n",
            "valid_loss: 7.21e-03\tvalid_acc: 9.26e-01\n",
            "\n",
            "saving model:...\n"
          ]
        },
        {
          "output_type": "stream",
          "name": "stderr",
          "text": [
            "100%|██████████| 227/227 [04:47<00:00,  1.27s/it]\n",
            "100%|██████████| 57/57 [00:23<00:00,  2.40it/s]\n"
          ]
        },
        {
          "output_type": "stream",
          "name": "stdout",
          "text": [
            "epoch #  3\n",
            "train_loss: 4.96e-03\ttrain_acc: 9.51e-01\n",
            "valid_loss: 6.95e-03\tvalid_acc: 9.26e-01\n",
            "\n",
            "saving model:...\n"
          ]
        },
        {
          "output_type": "stream",
          "name": "stderr",
          "text": [
            "100%|██████████| 227/227 [04:47<00:00,  1.27s/it]\n",
            "100%|██████████| 57/57 [00:23<00:00,  2.39it/s]\n"
          ]
        },
        {
          "output_type": "stream",
          "name": "stdout",
          "text": [
            "epoch #  4\n",
            "train_loss: 4.52e-03\ttrain_acc: 9.55e-01\n",
            "valid_loss: 7.48e-03\tvalid_acc: 9.24e-01\n",
            "\n",
            "saving model:...\n"
          ]
        },
        {
          "output_type": "stream",
          "name": "stderr",
          "text": [
            "100%|██████████| 227/227 [04:47<00:00,  1.27s/it]\n",
            "100%|██████████| 57/57 [00:23<00:00,  2.40it/s]\n"
          ]
        },
        {
          "output_type": "stream",
          "name": "stdout",
          "text": [
            "epoch #  5\n",
            "train_loss: 3.94e-03\ttrain_acc: 9.62e-01\n",
            "valid_loss: 7.72e-03\tvalid_acc: 9.23e-01\n",
            "\n",
            "saving model:...\n"
          ]
        },
        {
          "output_type": "stream",
          "name": "stderr",
          "text": [
            "100%|██████████| 227/227 [04:47<00:00,  1.27s/it]\n",
            "100%|██████████| 57/57 [00:23<00:00,  2.40it/s]\n"
          ]
        },
        {
          "output_type": "stream",
          "name": "stdout",
          "text": [
            "epoch #  6\n",
            "train_loss: 3.33e-03\ttrain_acc: 9.72e-01\n",
            "valid_loss: 8.09e-03\tvalid_acc: 9.29e-01\n",
            "\n",
            "saving model:...\n"
          ]
        },
        {
          "output_type": "stream",
          "name": "stderr",
          "text": [
            "100%|██████████| 227/227 [04:47<00:00,  1.27s/it]\n",
            "100%|██████████| 57/57 [00:23<00:00,  2.39it/s]\n"
          ]
        },
        {
          "output_type": "stream",
          "name": "stdout",
          "text": [
            "epoch #  7\n",
            "train_loss: 3.01e-03\ttrain_acc: 9.75e-01\n",
            "valid_loss: 8.22e-03\tvalid_acc: 9.29e-01\n",
            "\n",
            "saving model:...\n"
          ]
        },
        {
          "output_type": "stream",
          "name": "stderr",
          "text": [
            "100%|██████████| 227/227 [04:47<00:00,  1.27s/it]\n",
            "100%|██████████| 57/57 [00:23<00:00,  2.39it/s]\n"
          ]
        },
        {
          "output_type": "stream",
          "name": "stdout",
          "text": [
            "epoch #  8\n",
            "train_loss: 2.78e-03\ttrain_acc: 9.76e-01\n",
            "valid_loss: 8.41e-03\tvalid_acc: 9.25e-01\n",
            "\n",
            "saving model:...\n"
          ]
        },
        {
          "output_type": "stream",
          "name": "stderr",
          "text": [
            "100%|██████████| 227/227 [04:47<00:00,  1.27s/it]\n",
            "100%|██████████| 57/57 [00:23<00:00,  2.40it/s]\n"
          ]
        },
        {
          "output_type": "stream",
          "name": "stdout",
          "text": [
            "epoch #  9\n",
            "train_loss: 2.50e-03\ttrain_acc: 9.80e-01\n",
            "valid_loss: 8.48e-03\tvalid_acc: 9.25e-01\n",
            "\n",
            "saving model:...\n"
          ]
        },
        {
          "output_type": "stream",
          "name": "stderr",
          "text": [
            "100%|██████████| 227/227 [04:47<00:00,  1.27s/it]\n",
            "100%|██████████| 57/57 [00:23<00:00,  2.39it/s]\n"
          ]
        },
        {
          "output_type": "stream",
          "name": "stdout",
          "text": [
            "epoch # 10\n",
            "train_loss: 2.50e-03\ttrain_acc: 9.78e-01\n",
            "valid_loss: 8.47e-03\tvalid_acc: 9.25e-01\n",
            "\n",
            "saving model:...\n"
          ]
        }
      ]
    },
    {
      "cell_type": "code",
      "source": [
        "from tqdm import tqdm"
      ],
      "metadata": {
        "execution": {
          "iopub.status.busy": "2022-12-13T12:29:11.817159Z",
          "iopub.execute_input": "2022-12-13T12:29:11.817529Z",
          "iopub.status.idle": "2022-12-13T12:29:11.823130Z",
          "shell.execute_reply.started": "2022-12-13T12:29:11.817497Z",
          "shell.execute_reply": "2022-12-13T12:29:11.821853Z"
        },
        "trusted": true,
        "id": "s9pHjQ-lP0lX"
      },
      "execution_count": 59,
      "outputs": []
    },
    {
      "cell_type": "code",
      "source": [
        "test_model = BERT_for_sentiment_large()"
      ],
      "metadata": {
        "execution": {
          "iopub.status.busy": "2022-12-13T12:29:15.895709Z",
          "iopub.execute_input": "2022-12-13T12:29:15.896331Z",
          "iopub.status.idle": "2022-12-13T12:29:22.822309Z",
          "shell.execute_reply.started": "2022-12-13T12:29:15.896294Z",
          "shell.execute_reply": "2022-12-13T12:29:22.821345Z"
        },
        "trusted": true,
        "id": "1y4OSgFdP0lY"
      },
      "execution_count": 60,
      "outputs": []
    },
    {
      "cell_type": "code",
      "source": [
        "test_model.load_state_dict(torch.load(\"/phobert_linear_train_crawl_3.pt\"))"
      ],
      "metadata": {
        "execution": {
          "iopub.status.busy": "2022-12-13T12:30:56.204543Z",
          "iopub.execute_input": "2022-12-13T12:30:56.204946Z",
          "iopub.status.idle": "2022-12-13T12:30:59.544702Z",
          "shell.execute_reply.started": "2022-12-13T12:30:56.204912Z",
          "shell.execute_reply": "2022-12-13T12:30:59.543717Z"
        },
        "trusted": true,
        "colab": {
          "base_uri": "https://localhost:8080/"
        },
        "id": "1BQKF1A_P0lY",
        "outputId": "be6464e1-e6b1-4b67-f233-34e4ffd34d6f"
      },
      "execution_count": 65,
      "outputs": [
        {
          "output_type": "execute_result",
          "data": {
            "text/plain": [
              "<All keys matched successfully>"
            ]
          },
          "metadata": {},
          "execution_count": 65
        }
      ]
    },
    {
      "cell_type": "code",
      "source": [
        "test_data = pd.read_csv(\"/test_shuffle.csv\")\n",
        "test_data"
      ],
      "metadata": {
        "id": "7z9irfsuHmA7",
        "execution": {
          "iopub.status.busy": "2022-12-13T12:39:09.055172Z",
          "iopub.execute_input": "2022-12-13T12:39:09.055540Z",
          "iopub.status.idle": "2022-12-13T12:39:09.178164Z",
          "shell.execute_reply.started": "2022-12-13T12:39:09.055509Z",
          "shell.execute_reply": "2022-12-13T12:39:09.177149Z"
        },
        "trusted": true,
        "colab": {
          "base_uri": "https://localhost:8080/",
          "height": 423
        },
        "outputId": "ed59ebdd-5289-4275-b98c-3ad568c5bc0b"
      },
      "execution_count": 91,
      "outputs": [
        {
          "output_type": "execute_result",
          "data": {
            "text/plain": [
              "                                                Comment  Rating\n",
              "0     Nước trong hình là blue sky , mình uống thì th...       1\n",
              "1     Mình cũng hay ăn bánh_xèo ở đây , bánh nhiều n...       0\n",
              "2     Đây là trà xanh Táo & Nho_Mỹ : > Mỗi ngày 1 hư...       1\n",
              "3     Phải nói đây là quán cơm hến mình ưng_ý từ trư...       0\n",
              "4     Trong thời_tiết oi_bức ở sài gòn vậy_mà không ...       1\n",
              "...                                                 ...     ...\n",
              "9995  Bánh_mì được , ăn lạ_miệng , view đẹp . Tuy_nh...       0\n",
              "9996  Mình ko thích món bánh bạch_tuộc ở đây lắm , t...       0\n",
              "9997  Nói_chung tất_cả các món ở hệ_thống món Huế ko...       0\n",
              "9998  Không_gian đẹp , nhưng mình thấy nước uống khô...       0\n",
              "9999  Mình thất_vọng về nước lẩu , thất_vọng ko thể ...       0\n",
              "\n",
              "[10000 rows x 2 columns]"
            ],
            "text/html": [
              "\n",
              "  <div id=\"df-1ca74801-52c7-4e60-8134-579c5519a9e6\">\n",
              "    <div class=\"colab-df-container\">\n",
              "      <div>\n",
              "<style scoped>\n",
              "    .dataframe tbody tr th:only-of-type {\n",
              "        vertical-align: middle;\n",
              "    }\n",
              "\n",
              "    .dataframe tbody tr th {\n",
              "        vertical-align: top;\n",
              "    }\n",
              "\n",
              "    .dataframe thead th {\n",
              "        text-align: right;\n",
              "    }\n",
              "</style>\n",
              "<table border=\"1\" class=\"dataframe\">\n",
              "  <thead>\n",
              "    <tr style=\"text-align: right;\">\n",
              "      <th></th>\n",
              "      <th>Comment</th>\n",
              "      <th>Rating</th>\n",
              "    </tr>\n",
              "  </thead>\n",
              "  <tbody>\n",
              "    <tr>\n",
              "      <th>0</th>\n",
              "      <td>Nước trong hình là blue sky , mình uống thì th...</td>\n",
              "      <td>1</td>\n",
              "    </tr>\n",
              "    <tr>\n",
              "      <th>1</th>\n",
              "      <td>Mình cũng hay ăn bánh_xèo ở đây , bánh nhiều n...</td>\n",
              "      <td>0</td>\n",
              "    </tr>\n",
              "    <tr>\n",
              "      <th>2</th>\n",
              "      <td>Đây là trà xanh Táo &amp; Nho_Mỹ : &gt; Mỗi ngày 1 hư...</td>\n",
              "      <td>1</td>\n",
              "    </tr>\n",
              "    <tr>\n",
              "      <th>3</th>\n",
              "      <td>Phải nói đây là quán cơm hến mình ưng_ý từ trư...</td>\n",
              "      <td>0</td>\n",
              "    </tr>\n",
              "    <tr>\n",
              "      <th>4</th>\n",
              "      <td>Trong thời_tiết oi_bức ở sài gòn vậy_mà không ...</td>\n",
              "      <td>1</td>\n",
              "    </tr>\n",
              "    <tr>\n",
              "      <th>...</th>\n",
              "      <td>...</td>\n",
              "      <td>...</td>\n",
              "    </tr>\n",
              "    <tr>\n",
              "      <th>9995</th>\n",
              "      <td>Bánh_mì được , ăn lạ_miệng , view đẹp . Tuy_nh...</td>\n",
              "      <td>0</td>\n",
              "    </tr>\n",
              "    <tr>\n",
              "      <th>9996</th>\n",
              "      <td>Mình ko thích món bánh bạch_tuộc ở đây lắm , t...</td>\n",
              "      <td>0</td>\n",
              "    </tr>\n",
              "    <tr>\n",
              "      <th>9997</th>\n",
              "      <td>Nói_chung tất_cả các món ở hệ_thống món Huế ko...</td>\n",
              "      <td>0</td>\n",
              "    </tr>\n",
              "    <tr>\n",
              "      <th>9998</th>\n",
              "      <td>Không_gian đẹp , nhưng mình thấy nước uống khô...</td>\n",
              "      <td>0</td>\n",
              "    </tr>\n",
              "    <tr>\n",
              "      <th>9999</th>\n",
              "      <td>Mình thất_vọng về nước lẩu , thất_vọng ko thể ...</td>\n",
              "      <td>0</td>\n",
              "    </tr>\n",
              "  </tbody>\n",
              "</table>\n",
              "<p>10000 rows × 2 columns</p>\n",
              "</div>\n",
              "      <button class=\"colab-df-convert\" onclick=\"convertToInteractive('df-1ca74801-52c7-4e60-8134-579c5519a9e6')\"\n",
              "              title=\"Convert this dataframe to an interactive table.\"\n",
              "              style=\"display:none;\">\n",
              "        \n",
              "  <svg xmlns=\"http://www.w3.org/2000/svg\" height=\"24px\"viewBox=\"0 0 24 24\"\n",
              "       width=\"24px\">\n",
              "    <path d=\"M0 0h24v24H0V0z\" fill=\"none\"/>\n",
              "    <path d=\"M18.56 5.44l.94 2.06.94-2.06 2.06-.94-2.06-.94-.94-2.06-.94 2.06-2.06.94zm-11 1L8.5 8.5l.94-2.06 2.06-.94-2.06-.94L8.5 2.5l-.94 2.06-2.06.94zm10 10l.94 2.06.94-2.06 2.06-.94-2.06-.94-.94-2.06-.94 2.06-2.06.94z\"/><path d=\"M17.41 7.96l-1.37-1.37c-.4-.4-.92-.59-1.43-.59-.52 0-1.04.2-1.43.59L10.3 9.45l-7.72 7.72c-.78.78-.78 2.05 0 2.83L4 21.41c.39.39.9.59 1.41.59.51 0 1.02-.2 1.41-.59l7.78-7.78 2.81-2.81c.8-.78.8-2.07 0-2.86zM5.41 20L4 18.59l7.72-7.72 1.47 1.35L5.41 20z\"/>\n",
              "  </svg>\n",
              "      </button>\n",
              "      \n",
              "  <style>\n",
              "    .colab-df-container {\n",
              "      display:flex;\n",
              "      flex-wrap:wrap;\n",
              "      gap: 12px;\n",
              "    }\n",
              "\n",
              "    .colab-df-convert {\n",
              "      background-color: #E8F0FE;\n",
              "      border: none;\n",
              "      border-radius: 50%;\n",
              "      cursor: pointer;\n",
              "      display: none;\n",
              "      fill: #1967D2;\n",
              "      height: 32px;\n",
              "      padding: 0 0 0 0;\n",
              "      width: 32px;\n",
              "    }\n",
              "\n",
              "    .colab-df-convert:hover {\n",
              "      background-color: #E2EBFA;\n",
              "      box-shadow: 0px 1px 2px rgba(60, 64, 67, 0.3), 0px 1px 3px 1px rgba(60, 64, 67, 0.15);\n",
              "      fill: #174EA6;\n",
              "    }\n",
              "\n",
              "    [theme=dark] .colab-df-convert {\n",
              "      background-color: #3B4455;\n",
              "      fill: #D2E3FC;\n",
              "    }\n",
              "\n",
              "    [theme=dark] .colab-df-convert:hover {\n",
              "      background-color: #434B5C;\n",
              "      box-shadow: 0px 1px 3px 1px rgba(0, 0, 0, 0.15);\n",
              "      filter: drop-shadow(0px 1px 2px rgba(0, 0, 0, 0.3));\n",
              "      fill: #FFFFFF;\n",
              "    }\n",
              "  </style>\n",
              "\n",
              "      <script>\n",
              "        const buttonEl =\n",
              "          document.querySelector('#df-1ca74801-52c7-4e60-8134-579c5519a9e6 button.colab-df-convert');\n",
              "        buttonEl.style.display =\n",
              "          google.colab.kernel.accessAllowed ? 'block' : 'none';\n",
              "\n",
              "        async function convertToInteractive(key) {\n",
              "          const element = document.querySelector('#df-1ca74801-52c7-4e60-8134-579c5519a9e6');\n",
              "          const dataTable =\n",
              "            await google.colab.kernel.invokeFunction('convertToInteractive',\n",
              "                                                     [key], {});\n",
              "          if (!dataTable) return;\n",
              "\n",
              "          const docLinkHtml = 'Like what you see? Visit the ' +\n",
              "            '<a target=\"_blank\" href=https://colab.research.google.com/notebooks/data_table.ipynb>data table notebook</a>'\n",
              "            + ' to learn more about interactive tables.';\n",
              "          element.innerHTML = '';\n",
              "          dataTable['output_type'] = 'display_data';\n",
              "          await google.colab.output.renderOutput(dataTable, element);\n",
              "          const docLink = document.createElement('div');\n",
              "          docLink.innerHTML = docLinkHtml;\n",
              "          element.appendChild(docLink);\n",
              "        }\n",
              "      </script>\n",
              "    </div>\n",
              "  </div>\n",
              "  "
            ]
          },
          "metadata": {},
          "execution_count": 91
        }
      ]
    },
    {
      "cell_type": "code",
      "source": [
        "test_data = test_data.drop('Rating',axis = 1)\n",
        "test_data['Comment']"
      ],
      "metadata": {
        "colab": {
          "base_uri": "https://localhost:8080/"
        },
        "id": "PChUxyXvp5ag",
        "outputId": "0382f663-4906-46a2-beda-118cac626566"
      },
      "execution_count": 92,
      "outputs": [
        {
          "output_type": "execute_result",
          "data": {
            "text/plain": [
              "0       Nước trong hình là blue sky , mình uống thì th...\n",
              "1       Mình cũng hay ăn bánh_xèo ở đây , bánh nhiều n...\n",
              "2       Đây là trà xanh Táo & Nho_Mỹ : > Mỗi ngày 1 hư...\n",
              "3       Phải nói đây là quán cơm hến mình ưng_ý từ trư...\n",
              "4       Trong thời_tiết oi_bức ở sài gòn vậy_mà không ...\n",
              "                              ...                        \n",
              "9995    Bánh_mì được , ăn lạ_miệng , view đẹp . Tuy_nh...\n",
              "9996    Mình ko thích món bánh bạch_tuộc ở đây lắm , t...\n",
              "9997    Nói_chung tất_cả các món ở hệ_thống món Huế ko...\n",
              "9998    Không_gian đẹp , nhưng mình thấy nước uống khô...\n",
              "9999    Mình thất_vọng về nước lẩu , thất_vọng ko thể ...\n",
              "Name: Comment, Length: 10000, dtype: object"
            ]
          },
          "metadata": {},
          "execution_count": 92
        }
      ]
    },
    {
      "cell_type": "code",
      "source": [
        "test_corpus = []\n",
        "for sent in test_data[\"Comment\"]:\n",
        "  if(type(sent) != str):\n",
        "    sent = \"bình luận không xác định\"\n",
        "  test_corpus.append((id, sent))\n",
        "\n",
        "print(test_corpus[0])"
      ],
      "metadata": {
        "colab": {
          "base_uri": "https://localhost:8080/"
        },
        "id": "iw6uqln66-Wu",
        "outputId": "8dd00194-d93f-4741-8adf-74d3f7a1f37b",
        "execution": {
          "iopub.status.busy": "2022-12-13T12:39:11.293436Z",
          "iopub.execute_input": "2022-12-13T12:39:11.293787Z",
          "iopub.status.idle": "2022-12-13T12:39:11.310488Z",
          "shell.execute_reply.started": "2022-12-13T12:39:11.293757Z",
          "shell.execute_reply": "2022-12-13T12:39:11.309315Z"
        },
        "trusted": true
      },
      "execution_count": 99,
      "outputs": [
        {
          "output_type": "stream",
          "name": "stdout",
          "text": [
            "(<built-in function id>, 'Nước trong hình là blue sky , mình uống thì thấy không có gì đặc_trưng , bánh thì không ngon bằng Red_Velvet , phục_vụ ở đây tận_tình lắm . Ai đến đây thì cũng phải thử qua Red velvet vì nó quá ngon , muốn thay_đổi khẩu_vị nên gọi 2 em mới này mà thấy không ngon bằng . Không_gian ở Lumos phía ngoài thoáng mát lại đẹp nữa . Bên trong thì cũng bình thương\\r\\n')\n"
          ]
        }
      ]
    },
    {
      "cell_type": "code",
      "source": [
        "sents = [sent for _,sent in test_corpus]\n"
      ],
      "metadata": {
        "id": "V261k-vT8ow1",
        "execution": {
          "iopub.status.busy": "2022-12-13T12:39:12.684954Z",
          "iopub.execute_input": "2022-12-13T12:39:12.685320Z",
          "iopub.status.idle": "2022-12-13T12:39:12.694906Z",
          "shell.execute_reply.started": "2022-12-13T12:39:12.685289Z",
          "shell.execute_reply": "2022-12-13T12:39:12.693863Z"
        },
        "trusted": true
      },
      "execution_count": 100,
      "outputs": []
    },
    {
      "cell_type": "code",
      "source": [
        "purified_sents = [purify(str(sent)) for sent in sents]"
      ],
      "metadata": {
        "id": "vPbtMsn09jky",
        "execution": {
          "iopub.status.busy": "2022-12-13T12:39:22.348421Z",
          "iopub.execute_input": "2022-12-13T12:39:22.348781Z",
          "iopub.status.idle": "2022-12-13T12:39:28.057030Z",
          "shell.execute_reply.started": "2022-12-13T12:39:22.348749Z",
          "shell.execute_reply": "2022-12-13T12:39:28.056036Z"
        },
        "trusted": true
      },
      "execution_count": 101,
      "outputs": []
    },
    {
      "cell_type": "code",
      "source": [
        "purified_sents"
      ],
      "metadata": {
        "id": "yDNmd8GnpzGn"
      },
      "execution_count": null,
      "outputs": []
    },
    {
      "cell_type": "code",
      "source": [
        "preprocessed_sents = preprocess(purified_sents)"
      ],
      "metadata": {
        "id": "___FrYla-3tM",
        "execution": {
          "iopub.status.busy": "2022-12-13T12:39:28.067414Z",
          "iopub.execute_input": "2022-12-13T12:39:28.067794Z",
          "iopub.status.idle": "2022-12-13T12:39:51.493662Z",
          "shell.execute_reply.started": "2022-12-13T12:39:28.067759Z",
          "shell.execute_reply": "2022-12-13T12:39:51.492685Z"
        },
        "trusted": true
      },
      "execution_count": 103,
      "outputs": []
    },
    {
      "cell_type": "code",
      "source": [
        "padded_sents, attention_masks = encode_plus(preprocessed_sents, max_len=256)"
      ],
      "metadata": {
        "id": "wvSG-D4tLEWh",
        "execution": {
          "iopub.status.busy": "2022-12-13T12:39:51.496232Z",
          "iopub.execute_input": "2022-12-13T12:39:51.496604Z",
          "iopub.status.idle": "2022-12-13T12:39:54.225631Z",
          "shell.execute_reply.started": "2022-12-13T12:39:51.496568Z",
          "shell.execute_reply": "2022-12-13T12:39:54.224662Z"
        },
        "trusted": true
      },
      "execution_count": 104,
      "outputs": []
    },
    {
      "cell_type": "code",
      "source": [
        "batch_size = 32\n",
        "\n",
        "inputs = torch.tensor(padded_sents)\n",
        "masks = torch.tensor(attention_masks)\n",
        "\n",
        "test_data = TensorDataset(masks, inputs)\n",
        "test_sampler = SequentialSampler(test_data)\n",
        "test_dataloader = DataLoader(test_data, sampler=test_sampler, batch_size=batch_size)"
      ],
      "metadata": {
        "id": "qoBxTJmS_rYZ",
        "execution": {
          "iopub.status.busy": "2022-12-13T12:39:54.227352Z",
          "iopub.execute_input": "2022-12-13T12:39:54.228379Z",
          "iopub.status.idle": "2022-12-13T12:39:54.414088Z",
          "shell.execute_reply.started": "2022-12-13T12:39:54.228324Z",
          "shell.execute_reply": "2022-12-13T12:39:54.412869Z"
        },
        "trusted": true
      },
      "execution_count": 105,
      "outputs": []
    },
    {
      "cell_type": "code",
      "source": [
        "inputs.shape"
      ],
      "metadata": {
        "execution": {
          "iopub.status.busy": "2022-12-13T12:40:29.715420Z",
          "iopub.execute_input": "2022-12-13T12:40:29.715940Z",
          "iopub.status.idle": "2022-12-13T12:40:29.732131Z",
          "shell.execute_reply.started": "2022-12-13T12:40:29.715892Z",
          "shell.execute_reply": "2022-12-13T12:40:29.730694Z"
        },
        "trusted": true,
        "colab": {
          "base_uri": "https://localhost:8080/"
        },
        "id": "9qjeg6sTP0ld",
        "outputId": "0ebb95e2-3206-49d0-f7d3-06b5de0d177b"
      },
      "execution_count": 106,
      "outputs": [
        {
          "output_type": "execute_result",
          "data": {
            "text/plain": [
              "torch.Size([10000, 256])"
            ]
          },
          "metadata": {},
          "execution_count": 106
        }
      ]
    },
    {
      "cell_type": "code",
      "source": [
        "test_model.to(device)"
      ],
      "metadata": {
        "id": "bkH003m-bVH7",
        "execution": {
          "iopub.status.busy": "2022-12-13T12:40:33.003241Z",
          "iopub.execute_input": "2022-12-13T12:40:33.003596Z",
          "iopub.status.idle": "2022-12-13T12:40:33.021751Z",
          "shell.execute_reply.started": "2022-12-13T12:40:33.003566Z",
          "shell.execute_reply": "2022-12-13T12:40:33.020873Z"
        },
        "trusted": true
      },
      "execution_count": null,
      "outputs": []
    },
    {
      "cell_type": "code",
      "source": [
        "sub = []\n",
        "test_model.eval()\n",
        "total_loss = total = 0\n",
        "for batch in tqdm(test_dataloader):\n",
        "# batch = torch.toTensor(t.to(device) for t in batch)\n",
        "  input_mask, input_ids = batch\n",
        "\n",
        "  input_ids = input_ids.to(device)\n",
        "  input_mask = input_mask.to(device)\n",
        "\n",
        "          # Forwards pass\n",
        "  with torch.no_grad():\n",
        "    outputs = test_model(input_ids, attention_mask=input_mask)\n",
        "    # loss = outputs[0]\n",
        "#     outputs = outputs.logits\n",
        "    loss = outputs.detach().cpu().numpy()\n",
        "    preds_flat = np.argmax(loss, axis=1).flatten()\n",
        "    for tup in preds_flat:\n",
        "      sub.append(tup)"
      ],
      "metadata": {
        "colab": {
          "base_uri": "https://localhost:8080/"
        },
        "id": "gaYv9DO_XXpx",
        "outputId": "309170a9-0440-4dc0-ef23-92058ecb54a5"
      },
      "execution_count": 108,
      "outputs": [
        {
          "output_type": "stream",
          "name": "stderr",
          "text": [
            "100%|██████████| 313/313 [02:04<00:00,  2.52it/s]\n"
          ]
        }
      ]
    },
    {
      "cell_type": "code",
      "source": [
        "len(sub)"
      ],
      "metadata": {
        "colab": {
          "base_uri": "https://localhost:8080/"
        },
        "id": "koGJrGgvsuLD",
        "outputId": "46f42441-4c0a-4009-b345-39c1563e1d90"
      },
      "execution_count": 110,
      "outputs": [
        {
          "output_type": "execute_result",
          "data": {
            "text/plain": [
              "10000"
            ]
          },
          "metadata": {},
          "execution_count": 110
        }
      ]
    },
    {
      "cell_type": "code",
      "source": [
        "sub[0:]"
      ],
      "metadata": {
        "colab": {
          "base_uri": "https://localhost:8080/"
        },
        "id": "8ujYzHuSsNhA",
        "outputId": "6b5288c3-4712-4b78-8b70-56f0e2787b50"
      },
      "execution_count": 111,
      "outputs": [
        {
          "output_type": "execute_result",
          "data": {
            "text/plain": [
              "[1,\n",
              " 1,\n",
              " 1,\n",
              " 1,\n",
              " 1,\n",
              " 0,\n",
              " 1,\n",
              " 0,\n",
              " 1,\n",
              " 1,\n",
              " 0,\n",
              " 0,\n",
              " 1,\n",
              " 1,\n",
              " 0,\n",
              " 1,\n",
              " 0,\n",
              " 1,\n",
              " 0,\n",
              " 1,\n",
              " 1,\n",
              " 1,\n",
              " 1,\n",
              " 1,\n",
              " 1,\n",
              " 1,\n",
              " 1,\n",
              " 0,\n",
              " 1,\n",
              " 1,\n",
              " 1,\n",
              " 0,\n",
              " 1,\n",
              " 1,\n",
              " 1,\n",
              " 0,\n",
              " 1,\n",
              " 1,\n",
              " 0,\n",
              " 1,\n",
              " 1,\n",
              " 1,\n",
              " 1,\n",
              " 1,\n",
              " 1,\n",
              " 1,\n",
              " 0,\n",
              " 1,\n",
              " 1,\n",
              " 0,\n",
              " 1,\n",
              " 0,\n",
              " 1,\n",
              " 0,\n",
              " 1,\n",
              " 1,\n",
              " 0,\n",
              " 0,\n",
              " 1,\n",
              " 1,\n",
              " 0,\n",
              " 1,\n",
              " 0,\n",
              " 1,\n",
              " 0,\n",
              " 1,\n",
              " 0,\n",
              " 1,\n",
              " 1,\n",
              " 1,\n",
              " 1,\n",
              " 0,\n",
              " 1,\n",
              " 1,\n",
              " 1,\n",
              " 1,\n",
              " 1,\n",
              " 1,\n",
              " 0,\n",
              " 1,\n",
              " 0,\n",
              " 1,\n",
              " 1,\n",
              " 1,\n",
              " 0,\n",
              " 0,\n",
              " 1,\n",
              " 1,\n",
              " 1,\n",
              " 0,\n",
              " 1,\n",
              " 1,\n",
              " 1,\n",
              " 1,\n",
              " 1,\n",
              " 1,\n",
              " 0,\n",
              " 0,\n",
              " 1,\n",
              " 1,\n",
              " 1,\n",
              " 1,\n",
              " 1,\n",
              " 1,\n",
              " 1,\n",
              " 1,\n",
              " 0,\n",
              " 1,\n",
              " 1,\n",
              " 0,\n",
              " 1,\n",
              " 0,\n",
              " 1,\n",
              " 1,\n",
              " 1,\n",
              " 1,\n",
              " 1,\n",
              " 1,\n",
              " 0,\n",
              " 1,\n",
              " 0,\n",
              " 0,\n",
              " 1,\n",
              " 1,\n",
              " 1,\n",
              " 0,\n",
              " 1,\n",
              " 1,\n",
              " 1,\n",
              " 0,\n",
              " 1,\n",
              " 1,\n",
              " 1,\n",
              " 1,\n",
              " 1,\n",
              " 0,\n",
              " 1,\n",
              " 1,\n",
              " 1,\n",
              " 1,\n",
              " 1,\n",
              " 1,\n",
              " 1,\n",
              " 1,\n",
              " 0,\n",
              " 1,\n",
              " 1,\n",
              " 0,\n",
              " 0,\n",
              " 1,\n",
              " 0,\n",
              " 1,\n",
              " 1,\n",
              " 1,\n",
              " 0,\n",
              " 1,\n",
              " 0,\n",
              " 1,\n",
              " 1,\n",
              " 1,\n",
              " 0,\n",
              " 0,\n",
              " 1,\n",
              " 0,\n",
              " 0,\n",
              " 1,\n",
              " 1,\n",
              " 0,\n",
              " 1,\n",
              " 1,\n",
              " 0,\n",
              " 1,\n",
              " 1,\n",
              " 0,\n",
              " 1,\n",
              " 1,\n",
              " 1,\n",
              " 0,\n",
              " 1,\n",
              " 0,\n",
              " 0,\n",
              " 1,\n",
              " 1,\n",
              " 1,\n",
              " 1,\n",
              " 1,\n",
              " 0,\n",
              " 0,\n",
              " 1,\n",
              " 1,\n",
              " 0,\n",
              " 0,\n",
              " 0,\n",
              " 1,\n",
              " 1,\n",
              " 0,\n",
              " 1,\n",
              " 1,\n",
              " 1,\n",
              " 1,\n",
              " 1,\n",
              " 1,\n",
              " 1,\n",
              " 1,\n",
              " 1,\n",
              " 1,\n",
              " 1,\n",
              " 1,\n",
              " 0,\n",
              " 0,\n",
              " 1,\n",
              " 1,\n",
              " 0,\n",
              " 1,\n",
              " 1,\n",
              " 1,\n",
              " 0,\n",
              " 0,\n",
              " 0,\n",
              " 0,\n",
              " 1,\n",
              " 0,\n",
              " 0,\n",
              " 1,\n",
              " 1,\n",
              " 1,\n",
              " 1,\n",
              " 1,\n",
              " 1,\n",
              " 1,\n",
              " 1,\n",
              " 1,\n",
              " 0,\n",
              " 1,\n",
              " 1,\n",
              " 0,\n",
              " 1,\n",
              " 0,\n",
              " 1,\n",
              " 1,\n",
              " 1,\n",
              " 0,\n",
              " 0,\n",
              " 0,\n",
              " 1,\n",
              " 0,\n",
              " 0,\n",
              " 1,\n",
              " 1,\n",
              " 1,\n",
              " 1,\n",
              " 0,\n",
              " 1,\n",
              " 1,\n",
              " 1,\n",
              " 1,\n",
              " 1,\n",
              " 1,\n",
              " 1,\n",
              " 0,\n",
              " 1,\n",
              " 1,\n",
              " 0,\n",
              " 1,\n",
              " 1,\n",
              " 1,\n",
              " 0,\n",
              " 1,\n",
              " 0,\n",
              " 1,\n",
              " 1,\n",
              " 0,\n",
              " 1,\n",
              " 0,\n",
              " 1,\n",
              " 1,\n",
              " 1,\n",
              " 1,\n",
              " 1,\n",
              " 1,\n",
              " 0,\n",
              " 1,\n",
              " 1,\n",
              " 1,\n",
              " 1,\n",
              " 1,\n",
              " 1,\n",
              " 0,\n",
              " 0,\n",
              " 1,\n",
              " 1,\n",
              " 0,\n",
              " 1,\n",
              " 0,\n",
              " 1,\n",
              " 1,\n",
              " 0,\n",
              " 1,\n",
              " 1,\n",
              " 1,\n",
              " 1,\n",
              " 0,\n",
              " 1,\n",
              " 1,\n",
              " 1,\n",
              " 1,\n",
              " 1,\n",
              " 0,\n",
              " 1,\n",
              " 0,\n",
              " 0,\n",
              " 0,\n",
              " 0,\n",
              " 1,\n",
              " 1,\n",
              " 0,\n",
              " 1,\n",
              " 1,\n",
              " 1,\n",
              " 1,\n",
              " 1,\n",
              " 1,\n",
              " 1,\n",
              " 1,\n",
              " 1,\n",
              " 1,\n",
              " 0,\n",
              " 0,\n",
              " 1,\n",
              " 1,\n",
              " 1,\n",
              " 1,\n",
              " 0,\n",
              " 1,\n",
              " 0,\n",
              " 1,\n",
              " 1,\n",
              " 1,\n",
              " 1,\n",
              " 1,\n",
              " 1,\n",
              " 0,\n",
              " 0,\n",
              " 1,\n",
              " 0,\n",
              " 1,\n",
              " 1,\n",
              " 1,\n",
              " 1,\n",
              " 1,\n",
              " 1,\n",
              " 1,\n",
              " 1,\n",
              " 1,\n",
              " 1,\n",
              " 0,\n",
              " 1,\n",
              " 0,\n",
              " 1,\n",
              " 0,\n",
              " 1,\n",
              " 1,\n",
              " 1,\n",
              " 1,\n",
              " 1,\n",
              " 1,\n",
              " 1,\n",
              " 1,\n",
              " 0,\n",
              " 1,\n",
              " 1,\n",
              " 0,\n",
              " 0,\n",
              " 0,\n",
              " 1,\n",
              " 1,\n",
              " 1,\n",
              " 1,\n",
              " 0,\n",
              " 1,\n",
              " 1,\n",
              " 1,\n",
              " 1,\n",
              " 1,\n",
              " 1,\n",
              " 1,\n",
              " 1,\n",
              " 1,\n",
              " 1,\n",
              " 0,\n",
              " 1,\n",
              " 0,\n",
              " 1,\n",
              " 1,\n",
              " 1,\n",
              " 1,\n",
              " 1,\n",
              " 0,\n",
              " 1,\n",
              " 0,\n",
              " 0,\n",
              " 1,\n",
              " 1,\n",
              " 0,\n",
              " 0,\n",
              " 1,\n",
              " 1,\n",
              " 1,\n",
              " 1,\n",
              " 1,\n",
              " 0,\n",
              " 1,\n",
              " 0,\n",
              " 1,\n",
              " 0,\n",
              " 1,\n",
              " 1,\n",
              " 0,\n",
              " 1,\n",
              " 1,\n",
              " 0,\n",
              " 0,\n",
              " 1,\n",
              " 0,\n",
              " 1,\n",
              " 1,\n",
              " 0,\n",
              " 0,\n",
              " 0,\n",
              " 1,\n",
              " 0,\n",
              " 1,\n",
              " 1,\n",
              " 1,\n",
              " 1,\n",
              " 1,\n",
              " 0,\n",
              " 1,\n",
              " 0,\n",
              " 1,\n",
              " 1,\n",
              " 1,\n",
              " 1,\n",
              " 0,\n",
              " 1,\n",
              " 1,\n",
              " 1,\n",
              " 1,\n",
              " 1,\n",
              " 1,\n",
              " 1,\n",
              " 0,\n",
              " 1,\n",
              " 0,\n",
              " 1,\n",
              " 0,\n",
              " 1,\n",
              " 0,\n",
              " 1,\n",
              " 1,\n",
              " 1,\n",
              " 0,\n",
              " 0,\n",
              " 1,\n",
              " 1,\n",
              " 0,\n",
              " 1,\n",
              " 1,\n",
              " 1,\n",
              " 1,\n",
              " 0,\n",
              " 0,\n",
              " 1,\n",
              " 1,\n",
              " 0,\n",
              " 1,\n",
              " 1,\n",
              " 1,\n",
              " 1,\n",
              " 1,\n",
              " 1,\n",
              " 0,\n",
              " 1,\n",
              " 0,\n",
              " 1,\n",
              " 0,\n",
              " 1,\n",
              " 0,\n",
              " 1,\n",
              " 1,\n",
              " 1,\n",
              " 1,\n",
              " 1,\n",
              " 1,\n",
              " 0,\n",
              " 0,\n",
              " 1,\n",
              " 0,\n",
              " 1,\n",
              " 1,\n",
              " 0,\n",
              " 1,\n",
              " 1,\n",
              " 1,\n",
              " 1,\n",
              " 0,\n",
              " 1,\n",
              " 1,\n",
              " 0,\n",
              " 1,\n",
              " 1,\n",
              " 0,\n",
              " 1,\n",
              " 1,\n",
              " 1,\n",
              " 1,\n",
              " 1,\n",
              " 1,\n",
              " 0,\n",
              " 0,\n",
              " 1,\n",
              " 0,\n",
              " 0,\n",
              " 1,\n",
              " 1,\n",
              " 1,\n",
              " 1,\n",
              " 1,\n",
              " 1,\n",
              " 1,\n",
              " 1,\n",
              " 1,\n",
              " 1,\n",
              " 1,\n",
              " 1,\n",
              " 1,\n",
              " 0,\n",
              " 1,\n",
              " 1,\n",
              " 1,\n",
              " 1,\n",
              " 0,\n",
              " 1,\n",
              " 1,\n",
              " 1,\n",
              " 1,\n",
              " 1,\n",
              " 1,\n",
              " 0,\n",
              " 1,\n",
              " 0,\n",
              " 1,\n",
              " 1,\n",
              " 1,\n",
              " 1,\n",
              " 1,\n",
              " 1,\n",
              " 0,\n",
              " 1,\n",
              " 1,\n",
              " 1,\n",
              " 1,\n",
              " 1,\n",
              " 1,\n",
              " 1,\n",
              " 1,\n",
              " 1,\n",
              " 1,\n",
              " 1,\n",
              " 1,\n",
              " 1,\n",
              " 0,\n",
              " 0,\n",
              " 1,\n",
              " 0,\n",
              " 1,\n",
              " 1,\n",
              " 1,\n",
              " 1,\n",
              " 1,\n",
              " 1,\n",
              " 1,\n",
              " 1,\n",
              " 0,\n",
              " 1,\n",
              " 1,\n",
              " 1,\n",
              " 1,\n",
              " 1,\n",
              " 1,\n",
              " 0,\n",
              " 1,\n",
              " 1,\n",
              " 1,\n",
              " 0,\n",
              " 1,\n",
              " 1,\n",
              " 0,\n",
              " 1,\n",
              " 1,\n",
              " 1,\n",
              " 1,\n",
              " 0,\n",
              " 1,\n",
              " 1,\n",
              " 1,\n",
              " 1,\n",
              " 0,\n",
              " 1,\n",
              " 1,\n",
              " 1,\n",
              " 1,\n",
              " 0,\n",
              " 0,\n",
              " 1,\n",
              " 1,\n",
              " 1,\n",
              " 0,\n",
              " 1,\n",
              " 1,\n",
              " 1,\n",
              " 0,\n",
              " 0,\n",
              " 1,\n",
              " 1,\n",
              " 1,\n",
              " 1,\n",
              " 1,\n",
              " 1,\n",
              " 1,\n",
              " 1,\n",
              " 1,\n",
              " 0,\n",
              " 1,\n",
              " 1,\n",
              " 1,\n",
              " 0,\n",
              " 1,\n",
              " 1,\n",
              " 1,\n",
              " 1,\n",
              " 1,\n",
              " 0,\n",
              " 0,\n",
              " 1,\n",
              " 1,\n",
              " 1,\n",
              " 0,\n",
              " 1,\n",
              " 0,\n",
              " 1,\n",
              " 1,\n",
              " 1,\n",
              " 1,\n",
              " 1,\n",
              " 1,\n",
              " 0,\n",
              " 1,\n",
              " 1,\n",
              " 0,\n",
              " 0,\n",
              " 1,\n",
              " 1,\n",
              " 0,\n",
              " 0,\n",
              " 1,\n",
              " 1,\n",
              " 0,\n",
              " 0,\n",
              " 1,\n",
              " 0,\n",
              " 1,\n",
              " 1,\n",
              " 0,\n",
              " 1,\n",
              " 1,\n",
              " 1,\n",
              " 1,\n",
              " 0,\n",
              " 1,\n",
              " 0,\n",
              " 1,\n",
              " 1,\n",
              " 1,\n",
              " 0,\n",
              " 1,\n",
              " 1,\n",
              " 0,\n",
              " 1,\n",
              " 1,\n",
              " 1,\n",
              " 0,\n",
              " 1,\n",
              " 1,\n",
              " 1,\n",
              " 1,\n",
              " 1,\n",
              " 1,\n",
              " 0,\n",
              " 1,\n",
              " 1,\n",
              " 1,\n",
              " 1,\n",
              " 0,\n",
              " 1,\n",
              " 1,\n",
              " 0,\n",
              " 1,\n",
              " 1,\n",
              " 1,\n",
              " 1,\n",
              " 0,\n",
              " 1,\n",
              " 0,\n",
              " 1,\n",
              " 1,\n",
              " 1,\n",
              " 0,\n",
              " 0,\n",
              " 1,\n",
              " 1,\n",
              " 1,\n",
              " 1,\n",
              " 1,\n",
              " 1,\n",
              " 1,\n",
              " 0,\n",
              " 0,\n",
              " 1,\n",
              " 1,\n",
              " 0,\n",
              " 0,\n",
              " 1,\n",
              " 0,\n",
              " 1,\n",
              " 1,\n",
              " 1,\n",
              " 1,\n",
              " 1,\n",
              " 1,\n",
              " 0,\n",
              " 1,\n",
              " 1,\n",
              " 0,\n",
              " 1,\n",
              " 1,\n",
              " 1,\n",
              " 0,\n",
              " 0,\n",
              " 1,\n",
              " 1,\n",
              " 1,\n",
              " 0,\n",
              " 0,\n",
              " 1,\n",
              " 1,\n",
              " 1,\n",
              " 0,\n",
              " 1,\n",
              " 1,\n",
              " 0,\n",
              " 1,\n",
              " 1,\n",
              " 1,\n",
              " 0,\n",
              " 1,\n",
              " 0,\n",
              " 1,\n",
              " 1,\n",
              " 1,\n",
              " 1,\n",
              " 1,\n",
              " 1,\n",
              " 0,\n",
              " 0,\n",
              " 1,\n",
              " 1,\n",
              " 1,\n",
              " 1,\n",
              " 1,\n",
              " 1,\n",
              " 0,\n",
              " 1,\n",
              " 0,\n",
              " 1,\n",
              " 1,\n",
              " 1,\n",
              " 1,\n",
              " 1,\n",
              " 0,\n",
              " 1,\n",
              " 1,\n",
              " 1,\n",
              " 1,\n",
              " 0,\n",
              " 1,\n",
              " 1,\n",
              " 1,\n",
              " 1,\n",
              " 0,\n",
              " 0,\n",
              " 1,\n",
              " 1,\n",
              " 1,\n",
              " 0,\n",
              " 1,\n",
              " 1,\n",
              " 1,\n",
              " 1,\n",
              " 0,\n",
              " 1,\n",
              " 1,\n",
              " 1,\n",
              " 0,\n",
              " 1,\n",
              " 1,\n",
              " 1,\n",
              " 1,\n",
              " 1,\n",
              " 1,\n",
              " 1,\n",
              " 1,\n",
              " 0,\n",
              " 0,\n",
              " 0,\n",
              " 0,\n",
              " 1,\n",
              " 0,\n",
              " 1,\n",
              " 1,\n",
              " 1,\n",
              " 0,\n",
              " 1,\n",
              " 1,\n",
              " 0,\n",
              " 0,\n",
              " 1,\n",
              " 1,\n",
              " 1,\n",
              " 1,\n",
              " 0,\n",
              " 0,\n",
              " 1,\n",
              " 1,\n",
              " 1,\n",
              " 0,\n",
              " 1,\n",
              " 1,\n",
              " 1,\n",
              " 1,\n",
              " 1,\n",
              " 1,\n",
              " 1,\n",
              " 0,\n",
              " 1,\n",
              " 1,\n",
              " 0,\n",
              " 1,\n",
              " 1,\n",
              " 1,\n",
              " 0,\n",
              " 1,\n",
              " 1,\n",
              " 1,\n",
              " 1,\n",
              " 0,\n",
              " 1,\n",
              " 1,\n",
              " 0,\n",
              " 1,\n",
              " 1,\n",
              " 1,\n",
              " 1,\n",
              " 1,\n",
              " 1,\n",
              " 0,\n",
              " 1,\n",
              " 0,\n",
              " 1,\n",
              " 1,\n",
              " 0,\n",
              " 0,\n",
              " 1,\n",
              " 1,\n",
              " 1,\n",
              " 1,\n",
              " 1,\n",
              " 1,\n",
              " 1,\n",
              " 1,\n",
              " 1,\n",
              " 1,\n",
              " 1,\n",
              " 1,\n",
              " 1,\n",
              " 1,\n",
              " 1,\n",
              " 1,\n",
              " 1,\n",
              " 1,\n",
              " 1,\n",
              " 1,\n",
              " 1,\n",
              " 1,\n",
              " 1,\n",
              " 1,\n",
              " 1,\n",
              " 1,\n",
              " 1,\n",
              " 1,\n",
              " 1,\n",
              " 1,\n",
              " 1,\n",
              " 0,\n",
              " 1,\n",
              " 1,\n",
              " 1,\n",
              " 0,\n",
              " 1,\n",
              " 1,\n",
              " 0,\n",
              " 1,\n",
              " 1,\n",
              " 1,\n",
              " 1,\n",
              " 1,\n",
              " 1,\n",
              " 1,\n",
              " 0,\n",
              " 0,\n",
              " 0,\n",
              " 1,\n",
              " 1,\n",
              " 1,\n",
              " 1,\n",
              " 1,\n",
              " 1,\n",
              " 0,\n",
              " 1,\n",
              " 0,\n",
              " 1,\n",
              " 1,\n",
              " 1,\n",
              " 0,\n",
              " 0,\n",
              " 1,\n",
              " 1,\n",
              " 1,\n",
              " 1,\n",
              " 1,\n",
              " 1,\n",
              " 1,\n",
              " 1,\n",
              " 1,\n",
              " 1,\n",
              " 1,\n",
              " 0,\n",
              " 1,\n",
              " 0,\n",
              " 1,\n",
              " 1,\n",
              " 1,\n",
              " 1,\n",
              " 0,\n",
              " 1,\n",
              " 1,\n",
              " 1,\n",
              " 1,\n",
              " 1,\n",
              " 1,\n",
              " 1,\n",
              " 1,\n",
              " 1,\n",
              " 1,\n",
              " 1,\n",
              " 1,\n",
              " 1,\n",
              " 1,\n",
              " 1,\n",
              " 0,\n",
              " 1,\n",
              " 1,\n",
              " 0,\n",
              " 1,\n",
              " 0,\n",
              " 0,\n",
              " 1,\n",
              " 1,\n",
              " 1,\n",
              " 0,\n",
              " 0,\n",
              " 1,\n",
              " 1,\n",
              " 1,\n",
              " 0,\n",
              " 1,\n",
              " 1,\n",
              " 1,\n",
              " 1,\n",
              " 1,\n",
              " ...]"
            ]
          },
          "metadata": {},
          "execution_count": 111
        }
      ]
    }
  ]
}